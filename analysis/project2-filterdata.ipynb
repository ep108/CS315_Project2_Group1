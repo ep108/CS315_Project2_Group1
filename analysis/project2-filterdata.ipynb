{
 "cells": [
  {
   "cell_type": "code",
   "execution_count": 1,
   "id": "bd674cc8",
   "metadata": {},
   "outputs": [],
   "source": [
    "import json\n",
    "import csv\n",
    "import pandas as pd\n",
    "import re\n",
    "import os"
   ]
  },
  {
   "cell_type": "code",
   "execution_count": 2,
   "id": "92e79b50",
   "metadata": {},
   "outputs": [
    {
     "data": {
      "text/plain": [
       "'/Users/edithpo/Downloads'"
      ]
     },
     "execution_count": 2,
     "metadata": {},
     "output_type": "execute_result"
    }
   ],
   "source": [
    "os.getcwd()"
   ]
  },
  {
   "cell_type": "code",
   "execution_count": 3,
   "id": "e56fd43c",
   "metadata": {},
   "outputs": [],
   "source": [
    "accs_df = pd.read_csv('news-accounts.csv')\n",
    "all_accs_list = accs_df['Username'].to_list()\n",
    "ver_accs_list = accs_df[accs_df['Verified']=='Yes']['Username'].to_list()\n",
    "\n",
    "hash_df = pd.read_csv('news-hashtags.csv')\n",
    "hash_list = hash_df['Hashtag name'].to_list()"
   ]
  },
  {
   "cell_type": "code",
   "execution_count": 4,
   "id": "8ceb484b",
   "metadata": {},
   "outputs": [],
   "source": [
    "def getHashtags(phrase):\n",
    "    if isinstance(phrase,str):\n",
    "        return re.findall(r'#(\\S+)',phrase.lower())\n",
    "    else:\n",
    "        return []\n",
    "    \n",
    "def makeResultsDF(filename,accs_list,hash_list):\n",
    "    df = pd.read_csv(filename)\n",
    "    df['hashtags'] = df['video_description'].apply(getHashtags)\n",
    "    df['isNewsAccount'] = df['author_username'].apply(lambda aclst: \n",
    "                              any(acc in aclst for acc in acc_list)\n",
    "                              if isinstance(aclst, list) else False)\n",
    "    df['isNewsHashtag'] = df['hashtags'].apply(lambda htlst: \n",
    "                              any(hashtag in htlst for hashtag in hash_list)\n",
    "                              if isinstance(htlst, list) else False)\n",
    "    df = df[[\"video_id\", \"author_username\", \"video_description\", \n",
    "                              \"hashtags\", \"suggested_words\", \"isNewsAccount\", \n",
    "                              \"isNewsHashtag\"]].copy()\n",
    "    return df\n",
    "\n",
    "def print_str(df):\n",
    "    print(f\"Number of news accounts in feed: {len(df[df['isNewsAccount']])}\")\n",
    "    print(f\"Number of news hashtags in feed: {len(df[df['isNewsHashtag']])}\")\n",
    "    \n",
    "def filterDF(df,filt):\n",
    "    return df[df[filt]]\n",
    "\n",
    "def writeToJSON(df,filename):\n",
    "    data = df.to_json(orient=\"split\")\n",
    "    with open(filename,'w') as outFile:\n",
    "        json.dump(data,outFile)"
   ]
  },
  {
   "cell_type": "code",
   "execution_count": 5,
   "id": "001605ee",
   "metadata": {},
   "outputs": [],
   "source": [
    "# df_50405 = makeResultsDF('results_50405.csv',all_accs_list,hash_list)\n",
    "# df_10824 = makeResultsDF('results_10824.csv',all_accs_list,hash_list)\n",
    "# df_12345 = makeResultsDF('results_12345.csv',all_accs_list,hash_list)\n",
    "\n",
    "\n",
    "df_50405_full = makeResultsDF('results_50405_full.csv',all_accs_list,hash_list)\n",
    "df_10824_full = makeResultsDF('results_10824_full.csv',all_accs_list,hash_list)\n",
    "\n",
    "\n"
   ]
  },
  {
   "cell_type": "code",
   "execution_count": 6,
   "id": "17b3fb20",
   "metadata": {},
   "outputs": [
    {
     "name": "stdout",
     "output_type": "stream",
     "text": [
      "Number of news accounts in feed: 0\n",
      "Number of news hashtags in feed: 111\n"
     ]
    }
   ],
   "source": [
    "# print_str(df_50405)\n",
    "\n",
    "print_str(df_50405_full)"
   ]
  },
  {
   "cell_type": "code",
   "execution_count": 7,
   "id": "7da63397",
   "metadata": {},
   "outputs": [
    {
     "name": "stdout",
     "output_type": "stream",
     "text": [
      "Number of news accounts in feed: 0\n",
      "Number of news hashtags in feed: 140\n"
     ]
    }
   ],
   "source": [
    "# print_str(df_10824)\n",
    "\n",
    "print_str(df_10824_full)"
   ]
  },
  {
   "cell_type": "code",
   "execution_count": 10,
   "id": "5769184d",
   "metadata": {},
   "outputs": [
    {
     "name": "stdout",
     "output_type": "stream",
     "text": [
      "Number of news accounts in feed: 0\n",
      "Number of news hashtags in feed: 361\n"
     ]
    }
   ],
   "source": [
    "# print_str(df_12345)"
   ]
  },
  {
   "cell_type": "code",
   "execution_count": 9,
   "id": "fc70cc1d",
   "metadata": {},
   "outputs": [],
   "source": [
    "# df_50405_newsHashtags = filterDF(df_50405,'isNewsHashtag')\n",
    "# df_10824_newsHashtags = filterDF(df_10824,'isNewsHashtag')\n",
    "# df_12345_newsHashtags = filterDF(df_12345,'isNewsHashtag')\n",
    "\n",
    "\n",
    "df_50405_full_newsHashtags = filterDF(df_50405_full,'isNewsHashtag')\n",
    "df_10824_full_newsHashtags = filterDF(df_10824_full,'isNewsHashtag')\n",
    "# df_12345_newsHashtags = filterDF(df_12345,'isNewsHashtag')"
   ]
  },
  {
   "cell_type": "code",
   "execution_count": 10,
   "id": "d526880e",
   "metadata": {},
   "outputs": [],
   "source": [
    "writeToJSON(df_50405_full_newsHashtags,'videos-newsHashtags-50405_full.json')\n",
    "writeToJSON(df_10824_full_newsHashtags,'videos-newsHashtags-10824_full.json')\n",
    "# writeToJSON(df_12345_newsHashtags,'videos-newsHashtags-12345.json')"
   ]
  },
  {
   "cell_type": "code",
   "execution_count": null,
   "id": "e28a54fb",
   "metadata": {},
   "outputs": [],
   "source": []
  }
 ],
 "metadata": {
  "kernelspec": {
   "display_name": "Python 3 (ipykernel)",
   "language": "python",
   "name": "python3"
  },
  "language_info": {
   "codemirror_mode": {
    "name": "ipython",
    "version": 3
   },
   "file_extension": ".py",
   "mimetype": "text/x-python",
   "name": "python",
   "nbconvert_exporter": "python",
   "pygments_lexer": "ipython3",
   "version": "3.10.8"
  }
 },
 "nbformat": 4,
 "nbformat_minor": 5
}
