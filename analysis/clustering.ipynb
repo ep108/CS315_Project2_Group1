{
 "cells": [
  {
   "cell_type": "code",
   "execution_count": 34,
   "metadata": {},
   "outputs": [],
   "source": [
    "import tensorflow as tf\n",
    "import tensorflow_hub as hub\n",
    "import numpy as np\n",
    "import pandas as pd\n",
    "import plotly.express as px\n",
    "from random import sample\n",
    "import sklearn.cluster\n",
    "from sklearn.cluster import KMeans\n",
    "import sklearn.manifold\n",
    "from sklearn.manifold import TSNE\n",
    "import matplotlib.pyplot as plt\n",
    "from collections import Counter\n",
    "import json\n",
    "import os\n",
    "\n",
    "main_dir = os.path.dirname(os.getcwd())\n",
    "pyktok_dir = f'{main_dir}/pyktok-results'"
   ]
  },
  {
   "cell_type": "code",
   "execution_count": 82,
   "metadata": {},
   "outputs": [],
   "source": [
    "\n",
    "embed = hub.load(\"https://tfhub.dev/google/universal-sentence-encoder/4\")\n",
    "\n",
    "def getsuggested_wordsfromcsv(filename):\n",
    "    sugg_words = []\n",
    "    file = f'{pyktok_dir}/{filename}'\n",
    "    print(f'Getting pyktok data from file {file}')\n",
    "    metadata = pd.read_csv(file)\n",
    "    for index, row in metadata.iterrows():\n",
    "        if row['suggested_words']:\n",
    "            sugg_words += str(row['suggested_words']).split(',')\n",
    "    return sugg_words\n",
    "\n",
    "def getsuggested_wordsfromjson(filename):\n",
    "    sugg_words = []\n",
    "    file = f'{filename}'\n",
    "    print(f'Getting pyktok data from file {file}')\n",
    "    metadatadict = json.loads(json.load(open(filename)))\n",
    "    for video in metadatadict['data']:\n",
    "        sugg_words += video[3]\n",
    "    return sugg_words\n",
    "\n",
    "\n",
    "\n"
   ]
  },
  {
   "cell_type": "code",
   "execution_count": 26,
   "metadata": {},
   "outputs": [],
   "source": [
    "def elbowMethod(embeddings, maxK):\n",
    "    \"\"\"\n",
    "    Implements the Elbow method for finding most optimal k.\n",
    "    It keeps track of a measure named \"inertia\" for each cluster.\n",
    "    \"\"\"\n",
    "    sumSquaredDistances = []\n",
    "    kValues = list(range(1, maxK))\n",
    "    for k in kValues:\n",
    "        km = KMeans(n_clusters=k, random_state=42)\n",
    "        km = km.fit(embeddings)\n",
    "        sumSquaredDistances.append(km.inertia_)\n",
    "    \n",
    "    # plot the line to identify the elbow\n",
    "    plt.plot(kValues, sumSquaredDistances, 'ro-')\n",
    "    plt.xlabel('k')\n",
    "    plt.xticks(kValues)\n",
    "    plt.ylabel('Sum of squared distances')\n",
    "    plt.title('Elbow Method For Optimal k')\n",
    "    plt.show()"
   ]
  },
  {
   "cell_type": "code",
   "execution_count": 39,
   "metadata": {},
   "outputs": [],
   "source": [
    "def callKmeans(k,embeddedlst,wordlst):\n",
    "    kmeans = KMeans(n_clusters=k, random_state=42)\n",
    "    clusters = kmeans.fit_predict(embeddedlst)\n",
    "    clusters[:10]\n",
    "\n",
    "    for i in range(k):\n",
    "        print(f\"Cluster {i}:\")\n",
    "        cluster_words = [wordlst[j] for j in range(len(wordlst)) if clusters[j] == i]\n",
    "        print(cluster_words)"
   ]
  },
  {
   "cell_type": "code",
   "execution_count": 40,
   "metadata": {},
   "outputs": [
    {
     "name": "stdout",
     "output_type": "stream",
     "text": [
      "Getting pyktok data from file /Users/adelle/CS315_Project2_Group1/pyktok-results/results_10824_full.csv\n",
      "400\n"
     ]
    },
    {
     "data": {
      "text/plain": [
       "TensorShape([400, 512])"
      ]
     },
     "execution_count": 40,
     "metadata": {},
     "output_type": "execute_result"
    }
   ],
   "source": [
    "suggwords10824 = sample(getsuggested_wordsfromcsv('results_10824_full.csv'),400)\n",
    "#print(suggwords10824)\n",
    "print(len(suggwords10824))\n",
    "\n",
    "embed10824 = embed(suggwords10824)\n",
    "embed10824.shape"
   ]
  },
  {
   "cell_type": "code",
   "execution_count": 41,
   "metadata": {},
   "outputs": [
    {
     "name": "stdout",
     "output_type": "stream",
     "text": [
      "Cluster 0:\n",
      "[' countess vaughn singing', ' if rosa parks was in this generation', ' miguel girl with tattoos', ' Girls Like You By Maroon 5 And Cardi B', ' are you a nicki fan', 'nobody wanna see us together', ' darkest man harry pinero', ' slum anthem by k camp', ' Jesus Loves You', ' Bobbi And Drake', ' busta rhymes and scar lip', 'how hood dudes apologize to their girl', ' Even If My Name Was Natalie Nunn', ' Bobbi Do You Love Me', ' jar new disney movie', ' ayra starr', ' love keyshia cole cover', ' and you make me feel so brand new', ' shallipopi and his junior brother', ' bobbi althoff keke palmer', ' i love you', ' tracie and cheryl love story', ' marco and bobbi', ' grandma can you sing me a lullaby', ' Bambi And Scar Lip', ' Scar Lip Explains Her Scar', 'lil cherry', ' no body knows me like you', ' drake edit', 'Landon Romano', ' ovajoja and kizz daniel moments', ' Ayra Starr Songs', ' Oh Polly', 'oh johnny when you know my name is ray', ' dean kpop not sorry', ' alex consani thank you to my man', ' Kdrama']\n",
      "Cluster 1:\n",
      "[' Broad City', ' Davido Concert', ' New York Subway System', ' house', 'jen reading', ' Personal Assistant', ' dc', 'Great Wolf Lodge', ' cpc stars', ' Visiting Japan', ' Learn Mandarin', ' Big Brother', ' That I Eat In The Day', ' electricity power', ' Online Podcast', ' mega bed dorm', ' Jersey Club', 'food tiktok', ' baby in the kitchen', ' amp house', ' Gym Workout']\n",
      "Cluster 2:\n",
      "['eric reprid', ' how to jig', 'bentley bentayga', 'Omah lay', 'freezing eggs', ' Cracking Egg', ' Takes A Pet Like No Problem', 'cherub', ' Omah lay', ' Red Flags', 'what does studs stand for', ' Farm TikTok', ' 38 weeks pregnant', ' amapiano exercise', ' Omah lay', ' High Paying Degrees', ' blow out', ' Chowder Scream']\n",
      "Cluster 3:\n",
      "['nan', 'nan', 'nan', 'nan', 'nan', 'nan', 'nan', 'nan', 'nan', 'nan', 'nan', 'nan', 'nan', 'nan', 'nan', 'nan', 'nan', 'nan', 'nan', 'nan', 'nan', 'nan', 'nan', 'nan', 'nan', 'nan', 'nan', 'nan']\n",
      "Cluster 4:\n",
      "[' college student helps homeless', ' mom chats', ' social experiment respect', ' social experiment wearing tie', 'Flight Attendant', ' Job Interview', ' black nursing instructor', ' Travelling TikTok', 'giving birthing', ' Surgeon', \" People's Reactions\", ' Nursing Students', 'how did nex pass', 'How To Get Good Grades', ' vampires', ' healing journey', ' Giving Parents Money', ' Life As A Student', ' Grandparents Wholesome', ' screaming in public restrooms prank', ' Dogs Being Jealous', ' playing games summer walker', ' Teacher TikTok', ' nda therapy', ' Liberal Parents', ' Sibling Check', ' sharing family pets', ' pharmacy student', ' College Classroom', ' Parent Reflexes']\n",
      "Cluster 5:\n",
      "[' bae these off whites dance', ' Grandparents Love', ' maci husband yells at grandparents', ' Couples Of TikTok', ' 30 weeks pregnant', ' groom vows', ' Bobbi Althoff Husband', ' Pastor Cheluget', ' Brother and Sister (2022)', ' dua from diary room', ' Prenup Marriage', ' Congolese Wedding', 'freezer mom story', ' PR Haul Unboxing', ' wedding day', ' Twin Pregnancy Journey', ' praise god', ' Saweetie Amelia VMA', ' Cheap Groceries', ' muna husband diary room', ' acid attack awareness', ' viral target jumpsuit', 'weddings', ' Weddings of TikTok', ' Wedding Decorations', ' carrier cargo ship', ' your friend thinks shes mixed', ' wear red to a wedding', ' korean social experiment calling uncle', ' Triplets Essentials', ' ushers kids', ' Bop Family', ' baby grimace crying', ' walking into 2024 be like']\n",
      "Cluster 6:\n",
      "[' twin where have you been kai cenat', 'bebe and bebop', 'kitty kat by beyonce', ' adele performing in front of her son', 'shut up you zimbabwean meme', 'donkey donkey dance', ' Niko Omilana', ' Jay Park Tiny Desk', ' oliveira', ' dr miami and santina', ' donkey donkey donk original kid with mom', ' Hold On Dj Booth Nicki', ' takeover rap battle', ' Blue Ocean Whale', ' kai and duke moments', 'mama tony and pastor', ' Kai Cenat And Duke Dennis Funny Moments', ' ray from kai cenat', ' duke dennis edit', ' trinidad killa made for me', ' russell peters trinidad', ' Nicki Minaj Performance', 'Jersey Joe Kai Cenat', ' the pink courtroom jenny', ' nicki minaj little sister', ' usher super bowl 2024', ' Plumbus Rick And Morty', 'Robert Martinez Girlfriend', ' wendoline wallace and gromit', ' Katt Williams American Comedian', ' kanye west releasing new body', ' kanye west freestyle', ' Django Whips White Guy', ' milo cubes', ' rapper vs 20 women', ' Quen Blackwell Vine Pickle', ' pluto dance by shallipopi']\n",
      "Cluster 7:\n",
      "[' Africa', ' africa', ' ghana', 'we are nigerian mothers', ' New Orleans French Quarter', ' jamaica tiktok', 'south african comments from other countries', ' Africa Travel', 'Somali TikTok', ' African Comedy', ' why do somalis have big foreheads', ' Ethiopia Tiktok', ' Nigerian Music', 'dogon tribe', 'Caribbean Food', 'pastor kofi oduro', ' South African Food', ' africans song', ' African Dresses', ' africans song', ' somali']\n",
      "Cluster 8:\n",
      "[' conebread', 'vonte1k', ' restaurants', ' demarcusshawn', 'TeacherTok', ' Sport', ' Bangchan', 'case', ' Lgbtq', ' liluzivert', 'franglish', ' nicoletv', ' Mermaidcore', ' camera', ' shxtsngigs', ' Afcon', ' bodies', ' eagles', ' dj', ' elsa.majimbo', 'michaelslicks', ' Airplane']\n",
      "Cluster 9:\n",
      "[' Biscoff Dessert Recipes', ' bryson tiller new song', 'Bollywood Songs', ' Filipino Comedy', ' French Toast Recipe', ' british try mexican food', ' K-pop Vocals', ' Speaking Different Languages', ' cute baby names', \" I'm A Mess Song By Omah Lay\", \" Old Songs From 1950's\", ' Fun Activities In NYC', ' what are nupes', ' horror zodiac signs', 'reggae mashup', ' Male Singers', ' Places To Eat In Miami', ' dancehall songs', ' Cookout Food Ideas', ' Hiphop Songs', ' Hip Hop']\n",
      "Cluster 10:\n",
      "[' frozen songs lyrics', ' songs with lyrics', ' UNAVAILABLE Song By Davido', ' Afrobeats Music', ' mohbad song', ' burna boy lyrics', ' Lyrics Video', ' Afrobeats Music', ' rema songs', ' Lyrics Video', ' oromo music', ' Lyrics Video', 'miss korea song', ' dumebi lyrics by rema', ' ego french song', ' Afrobeats Music', ' sarafina prison song', ' terminator lyrics', ' Music Lyrics', ' Gospel Song', ' music makes the mood']\n",
      "Cluster 11:\n",
      "[' Packing Hacks', ' logic dad', ' red potion by rema', ' Elf Ideas', ' Baby Wall Lamp', ' Morning Daily Routine', ' yung filly grey', ' banana fruit', ' scarlip being rude to her makeup artist', ' mak sauce', ' kimp0ssiblez mom', ' blueberry british accent', 'unbrush brush', ' nara smith age', ' Yellow Teeth', ' Dior', ' nail tech', ' Brunch Boots', ' 1 Bed Apartment Decor', 'nella rose', 'king bo', ' yung filly', ' unbrush hairbrush', ' iced matcha latte', ' TikTok Makeup Artist', ' jayla marie dad', ' amarriah smith tiktok', ' big face filter']\n",
      "Cluster 12:\n",
      "[' Wholesome Dog Videos', ' farm videos', ' Mini Microphone', ' Wax Scraping Videos', ' freezer mom documentary', 'dexta daps', 'akabenezer new funny videos', ' murumba pitch new releases', ' Party Edits', ' pastor on heels video', ' The Boys Edits', ' Paranormal Hauntings Videos', ' Video Interviews', ' dog videos', ' Podcast Clips', ' funny pentecostal church videos', ' The Mandela Effect Movie', ' Freestyle Videos', ' sharky edit', 'Podcast Clips', ' Talking Stage TikTok', ' philippine airlines safety video', 'ogba dance', ' mk slatt dance', ' dbn gogo click bait', ' lil babys vid', ' couples tiktok videos']\n",
      "Cluster 13:\n",
      "[' persuasion movie', ' Money Counting Machine', ' snow edit', ' ios 17 facetime features', ' Asian Food', ' fashion nova', ' Black Dress Makeup', ' dorito tree', ' Cutting Clients Hair', ' Masquerade Mask', ' Heat Trained Hair', ' Pho Noodles', ' Pinterest', ' braids', ' run bts performance', ' nails', ' fantasia crying', 'bts', ' Cocoa Butter Leave In Conditioner', ' Makeup Look', ' Runway Walk', ' murci dress', ' Pregnancy Leggings', ' ATL Hairstylist', 'Fashion Inspo', ' fashion fashion', ' Storytelling', ' Aritzia Dress', ' lace hair', ' Afro Hairstyles', ' pooh shiesty braids', ' Natural Hair', ' Comfy Couch', ' Candy And Shallipopi', ' hair tiktok', ' Hair Wax Color', ' Sweaters Haul', ' Wedding Hair', ' braiding natural hair', 'Trichologist Hair', ' fashion nova jumpsuit']\n",
      "Cluster 14:\n",
      "[' Store Business', 'corporate erin', ' relationship tiktoks', ' Fifth Harmony Group', ' Mingi And Yeosang', ' survivor', ' Corporate Speak', ' Stephanie Soo', ' boss and ceo terri joe', ' The Ellen Show', ' Milwaukee City in Wisconsin', 'corporate erin', ' Santa Monica Pier Independence Day', ' veronica customer service']\n"
     ]
    }
   ],
   "source": [
    "callKmeans(15,embed10824,suggwords10824)"
   ]
  },
  {
   "cell_type": "code",
   "execution_count": null,
   "metadata": {},
   "outputs": [],
   "source": []
  },
  {
   "cell_type": "code",
   "execution_count": 42,
   "metadata": {},
   "outputs": [
    {
     "data": {
      "image/png": "[encoded data removed]",
      "text/plain": [
       "<Figure size 640x480 with 1 Axes>"
      ]
     },
     "metadata": {},
     "output_type": "display_data"
    }
   ],
   "source": [
    "elbowMethod(embed10824, 20)\n"
   ]
  },
  {
   "cell_type": "code",
   "execution_count": 44,
   "metadata": {},
   "outputs": [
    {
     "data": {
      "text/plain": [
       "Counter({2: 203, 0: 169, 1: 28})"
      ]
     },
     "execution_count": 44,
     "metadata": {},
     "output_type": "execute_result"
    }
   ],
   "source": [
    "k = 3\n",
    "kmeans = KMeans(n_clusters=k, random_state=42)\n",
    "clusters = kmeans.fit_predict(embed10824)\n",
    "Counter(clusters)"
   ]
  },
  {
   "cell_type": "code",
   "execution_count": 51,
   "metadata": {},
   "outputs": [
    {
     "data": {
      "application/vnd.plotly.v1+json": {
       "config": {
        "plotlyServerURL": "https://plot.ly"
       },
       "data": [
        {
         "hovertemplate": "tsne_1=%{x}<br>tsne_2=%{y}<br>hashtag=%{text}<br>cluster=%{marker.color}<extra></extra>",
         "legendgroup": "",
         "marker": {
          "color": [
           2,
           0,
           2,
           2,
           2,
           2,
           0,
           1,
           0,
           0,
           0,
           2,
           1,
           2,
           2,
           0,
           2,
           2,
           2,
           2,
           1,
           0,
           2,
           0,
           1,
           0,
           0,
           2,
           0,
           2,
           2,
           0,
           2,
           0,
           1,
           2,
           2,
           1,
           0,
           2,
           2,
           2,
           0,
           0,
           1,
           2,
           0,
           0,
           0,
           0,
           2,
           0,
           2,
           0,
           0,
           2,
           0,
           2,
           0,
           2,
           0,
           2,
           2,
           0,
           1,
           0,
           0,
           2,
           0,
           0,
           2,
           0,
           1,
           2,
           2,
           0,
           0,
           0,
           0,
           2,
           0,
           0,
           2,
           0,
           0,
           2,
           2,
           0,
           2,
           0,
           2,
           0,
           2,
           2,
           0,
           0,
           2,
           2,
           0,
           2,
           2,
           0,
           0,
           2,
           0,
           0,
           2,
           0,
           2,
           2,
           0,
           1,
           0,
           0,
           0,
           2,
           2,
           2,
           2,
           2,
           0,
           1,
           2,
           2,
           2,
           2,
           0,
           0,
           0,
           0,
           0,
           2,
           2,
           2,
           0,
           2,
           1,
           0,
           1,
           2,
           0,
           2,
           0,
           2,
           2,
           2,
           2,
           2,
           2,
           0,
           2,
           2,
           2,
           0,
           0,
           2,
           0,
           2,
           0,
           0,
           2,
           0,
           0,
           2,
           0,
           0,
           0,
           2,
           2,
           2,
           2,
           2,
           0,
           2,
           2,
           0,
           2,
           2,
           1,
           0,
           2,
           2,
           0,
           2,
           2,
           0,
           0,
           0,
           1,
           0,
           0,
           2,
           2,
           2,
           0,
           2,
           2,
           0,
           0,
           2,
           2,
           0,
           2,
           2,
           0,
           0,
           2,
           0,
           0,
           2,
           0,
           2,
           0,
           2,
           2,
           0,
           1,
           2,
           2,
           0,
           2,
           2,
           1,
           2,
           0,
           2,
           0,
           2,
           2,
           2,
           0,
           2,
           0,
           2,
           0,
           0,
           2,
           2,
           2,
           2,
           0,
           0,
           2,
           0,
           2,
           2,
           2,
           2,
           2,
           0,
           2,
           0,
           0,
           0,
           2,
           2,
           0,
           0,
           0,
           0,
           2,
           0,
           2,
           2,
           0,
           0,
           1,
           2,
           1,
           2,
           2,
           2,
           0,
           2,
           1,
           2,
           0,
           2,
           0,
           0,
           0,
           2,
           2,
           0,
           2,
           0,
           2,
           0,
           1,
           2,
           2,
           2,
           0,
           0,
           2,
           2,
           0,
           0,
           2,
           0,
           2,
           2,
           2,
           0,
           1,
           0,
           2,
           0,
           0,
           1,
           2,
           0,
           2,
           2,
           0,
           2,
           0,
           0,
           2,
           2,
           0,
           0,
           2,
           2,
           2,
           0,
           0,
           2,
           0,
           0,
           2,
           2,
           2,
           2,
           0,
           2,
           2,
           2,
           2,
           0,
           0,
           0,
           0,
           0,
           2,
           2,
           2,
           2,
           2,
           2,
           0,
           0,
           2,
           2,
           0,
           2,
           2,
           2,
           0,
           1,
           0,
           0,
           0,
           2,
           0,
           0,
           2,
           0,
           0,
           1,
           2,
           0,
           0,
           0,
           0,
           0,
           2,
           2,
           2,
           2,
           2,
           2,
           2,
           2,
           2,
           0,
           0,
           2,
           2,
           1,
           2,
           1,
           2,
           2,
           2,
           2,
           1,
           2,
           0,
           2
          ],
          "coloraxis": "coloraxis",
          "symbol": "circle"
         },
         "mode": "markers+text",
         "name": "",
         "orientation": "v",
         "showlegend": false,
         "text": [
          " Packing Hacks",
          " Wholesome Dog Videos",
          " persuasion movie",
          " Africa",
          " Biscoff Dessert Recipes",
          " farm videos",
          " countess vaughn singing",
          "nan",
          " twin where have you been kai cenat",
          "eric reprid",
          " bae these off whites dance",
          " how to jig",
          "nan",
          " Grandparents Love",
          " africa",
          " maci husband yells at grandparents",
          " Store Business",
          " Mini Microphone",
          " college student helps homeless",
          " Money Counting Machine",
          "nan",
          " Wax Scraping Videos",
          " Broad City",
          " freezer mom documentary",
          "nan",
          "dexta daps",
          " bryson tiller new song",
          " Couples Of TikTok",
          " if rosa parks was in this generation",
          " logic dad",
          " conebread",
          " miguel girl with tattoos",
          " snow edit",
          "corporate erin",
          "nan",
          " ghana",
          " mom chats",
          "nan",
          " Girls Like You By Maroon 5 And Cardi B",
          " relationship tiktoks",
          "bentley bentayga",
          "vonte1k",
          " are you a nicki fan",
          " ios 17 facetime features",
          "nan",
          " restaurants",
          "bebe and bebop",
          "nobody wanna see us together",
          " frozen songs lyrics",
          " songs with lyrics",
          " red potion by rema",
          "we are nigerian mothers",
          " Elf Ideas",
          "akabenezer new funny videos",
          " UNAVAILABLE Song By Davido",
          " Asian Food",
          " Afrobeats Music",
          "Omah lay",
          "kitty kat by beyonce",
          " fashion nova",
          "Bollywood Songs",
          " demarcusshawn",
          " 30 weeks pregnant",
          " Filipino Comedy",
          "nan",
          " mohbad song",
          " adele performing in front of her son",
          " Black Dress Makeup",
          " burna boy lyrics",
          " murumba pitch new releases",
          " social experiment respect",
          " Lyrics Video",
          "nan",
          " dorito tree",
          " groom vows",
          " Fifth Harmony Group",
          " darkest man harry pinero",
          " slum anthem by k camp",
          " Jesus Loves You",
          " Baby Wall Lamp",
          "shut up you zimbabwean meme",
          " Party Edits",
          " social experiment wearing tie",
          " pastor on heels video",
          " Afrobeats Music",
          " Cutting Clients Hair",
          "Flight Attendant",
          " Davido Concert",
          " New Orleans French Quarter",
          " Bobbi And Drake",
          "freezing eggs",
          " busta rhymes and scar lip",
          " Morning Daily Routine",
          " Job Interview",
          " Bobbi Althoff Husband",
          " Pastor Cheluget",
          " Brother and Sister (2022)",
          "TeacherTok",
          " Mingi And Yeosang",
          " black nursing instructor",
          " French Toast Recipe",
          " yung filly grey",
          " The Boys Edits",
          " Masquerade Mask",
          " dua from diary room",
          " rema songs",
          " Prenup Marriage",
          " jamaica tiktok",
          " survivor",
          " Heat Trained Hair",
          "how hood dudes apologize to their girl",
          "nan",
          " Even If My Name Was Natalie Nunn",
          " Bobbi Do You Love Me",
          " Lyrics Video",
          " Travelling TikTok",
          "giving birthing",
          " Surgeon",
          " Congolese Wedding",
          " Sport",
          "donkey donkey dance",
          "nan",
          " Bangchan",
          " People's Reactions",
          " Nursing Students",
          " banana fruit",
          " oromo music",
          " Niko Omilana",
          " jar new disney movie",
          " Jay Park Tiny Desk",
          "how did nex pass",
          "case",
          "freezer mom story",
          " Lgbtq",
          " oliveira",
          " Pho Noodles",
          "nan",
          " Lyrics Video",
          "nan",
          " Cracking Egg",
          "south african comments from other countries",
          " Africa Travel",
          " ayra starr",
          " Takes A Pet Like No Problem",
          "How To Get Good Grades",
          " vampires",
          " liluzivert",
          " healing journey",
          " Pinterest",
          " love keyshia cole cover",
          " Corporate Speak",
          " Giving Parents Money",
          "cherub",
          " dr miami and santina",
          " donkey donkey donk original kid with mom",
          " braids",
          " scarlip being rude to her makeup artist",
          " british try mexican food",
          " K-pop Vocals",
          " Hold On Dj Booth Nicki",
          " New York Subway System",
          " takeover rap battle",
          " Paranormal Hauntings Videos",
          " Speaking Different Languages",
          " PR Haul Unboxing",
          " cute baby names",
          " and you make me feel so brand new",
          " mak sauce",
          " Blue Ocean Whale",
          " house",
          "jen reading",
          " Personal Assistant",
          " shallipopi and his junior brother",
          " Omah lay",
          " kimp0ssiblez mom",
          " bobbi althoff keke palmer",
          " i love you",
          " Video Interviews",
          "nan",
          " I'm A Mess Song By Omah Lay",
          " Red Flags",
          " wedding day",
          " tracie and cheryl love story",
          " dog videos",
          " Podcast Clips",
          " marco and bobbi",
          " kai and duke moments",
          " funny pentecostal church videos",
          "nan",
          " Old Songs From 1950's",
          "mama tony and pastor",
          " Life As A Student",
          " Twin Pregnancy Journey",
          " blueberry british accent",
          " praise god",
          " Grandparents Wholesome",
          "franglish",
          " run bts performance",
          " Kai Cenat And Duke Dennis Funny Moments",
          "unbrush brush",
          " screaming in public restrooms prank",
          " The Mandela Effect Movie",
          " Fun Activities In NYC",
          " nails",
          " grandma can you sing me a lullaby",
          " nara smith age",
          " dc",
          " Freestyle Videos",
          "Somali TikTok",
          " Yellow Teeth",
          " fantasia crying",
          " what are nupes",
          "what does studs stand for",
          " Dior",
          " Dogs Being Jealous",
          " sharky edit",
          "nan",
          "Podcast Clips",
          " African Comedy",
          " ray from kai cenat",
          " playing games summer walker",
          " horror zodiac signs",
          "nan",
          " Teacher TikTok",
          " duke dennis edit",
          "bts",
          "reggae mashup",
          "Great Wolf Lodge",
          " Cocoa Butter Leave In Conditioner",
          " Talking Stage TikTok",
          " trinidad killa made for me",
          " nicoletv",
          " Saweetie Amelia VMA",
          " Makeup Look",
          " philippine airlines safety video",
          " russell peters trinidad",
          " Mermaidcore",
          " Cheap Groceries",
          " Runway Walk",
          " camera",
          " Bambi And Scar Lip",
          " Nicki Minaj Performance",
          " nail tech",
          " Male Singers",
          " Brunch Boots",
          " shxtsngigs",
          " Farm TikTok",
          " Afcon",
          " bodies",
          " muna husband diary room",
          " cpc stars",
          "Jersey Joe Kai Cenat",
          " why do somalis have big foreheads",
          " Scar Lip Explains Her Scar",
          " acid attack awareness",
          " Ethiopia Tiktok",
          " the pink courtroom jenny",
          "lil cherry",
          " nicki minaj little sister",
          " Nigerian Music",
          " eagles",
          " usher super bowl 2024",
          " murci dress",
          " 1 Bed Apartment Decor",
          " no body knows me like you",
          " Plumbus Rick And Morty",
          "nan",
          "dogon tribe",
          "nan",
          " Visiting Japan",
          " Learn Mandarin",
          " Pregnancy Leggings",
          "miss korea song",
          "ogba dance",
          "nan",
          "nella rose",
          " viral target jumpsuit",
          " Big Brother",
          " drake edit",
          " dumebi lyrics by rema",
          "Robert Martinez Girlfriend",
          "king bo",
          "Caribbean Food",
          "Landon Romano",
          "weddings",
          " ego french song",
          " dj",
          " yung filly",
          "nan",
          " ATL Hairstylist",
          "Fashion Inspo",
          " fashion fashion",
          " ovajoja and kizz daniel moments",
          " Afrobeats Music",
          " That I Eat In The Day",
          " Places To Eat In Miami",
          " Ayra Starr Songs",
          " wendoline wallace and gromit",
          " unbrush hairbrush",
          " Stephanie Soo",
          " electricity power",
          " Storytelling",
          " Aritzia Dress",
          " Oh Polly",
          "nan",
          "oh johnny when you know my name is ray",
          " lace hair",
          " boss and ceo terri joe",
          " Katt Williams American Comedian",
          "nan",
          " Weddings of TikTok",
          "pastor kofi oduro",
          " Wedding Decorations",
          " Afro Hairstyles",
          " kanye west releasing new body",
          " carrier cargo ship",
          " sarafina prison song",
          " kanye west freestyle",
          " South African Food",
          " nda therapy",
          " dancehall songs",
          " your friend thinks shes mixed",
          " Liberal Parents",
          " iced matcha latte",
          " TikTok Makeup Artist",
          " The Ellen Show",
          " Django Whips White Guy",
          " pooh shiesty braids",
          " jayla marie dad",
          " amarriah smith tiktok",
          " elsa.majimbo",
          " Sibling Check",
          " wear red to a wedding",
          " Online Podcast",
          " milo cubes",
          " Natural Hair",
          " sharing family pets",
          " Cookout Food Ideas",
          " 38 weeks pregnant",
          " Hiphop Songs",
          " mk slatt dance",
          " terminator lyrics",
          " korean social experiment calling uncle",
          " Music Lyrics",
          " amapiano exercise",
          " Omah lay",
          " mega bed dorm",
          " Triplets Essentials",
          " Jersey Club",
          " High Paying Degrees",
          " dean kpop not sorry",
          " ushers kids",
          " Comfy Couch",
          " Bop Family",
          " dbn gogo click bait",
          "food tiktok",
          "michaelslicks",
          " pharmacy student",
          " Milwaukee City in Wisconsin",
          "nan",
          " Candy And Shallipopi",
          " rapper vs 20 women",
          " africans song",
          " African Dresses",
          " alex consani thank you to my man",
          " Quen Blackwell Vine Pickle",
          " baby in the kitchen",
          " lil babys vid",
          " africans song",
          "nan",
          " blow out",
          " Gospel Song",
          " pluto dance by shallipopi",
          " Kdrama",
          "corporate erin",
          " Chowder Scream",
          " hair tiktok",
          " Hair Wax Color",
          " Sweaters Haul",
          " Airplane",
          " amp house",
          " Wedding Hair",
          " braiding natural hair",
          " College Classroom",
          " couples tiktok videos",
          " Santa Monica Pier Independence Day",
          " baby grimace crying",
          " big face filter",
          " Gym Workout",
          "nan",
          " walking into 2024 be like",
          "nan",
          " somali",
          "Trichologist Hair",
          " fashion nova jumpsuit",
          " Parent Reflexes",
          "nan",
          " Hip Hop",
          " music makes the mood",
          " veronica customer service"
         ],
         "textfont": {
          "size": 6
         },
         "textposition": "top center",
         "type": "scatter",
         "x": [
          9.592325210571289,
          -5.593585014343262,
          -3.2213404178619385,
          6.133046627044678,
          4.760303497314453,
          -2.849931478500366,
          -18.48957061767578,
          30.309131622314453,
          -21.093748092651367,
          -18.962621688842773,
          -14.192309379577637,
          15.157232284545898,
          29.502798080444336,
          -1.0345737934112549,
          6.1332831382751465,
          -0.03253208473324776,
          15.788945198059082,
          11.536237716674805,
          10.481709480285645,
          -25.586999893188477,
          29.036386489868164,
          -3.2898294925689697,
          17.285966873168945,
          -7.303934097290039,
          28.131847381591797,
          -15.63621997833252,
          -13.29332447052002,
          -3.872499465942383,
          -15.532800674438477,
          -4.590349197387695,
          21.85186767578125,
          -24.203094482421875,
          0.8442063927650452,
          -14.95913314819336,
          28.048635482788086,
          6.611638069152832,
          -5.917271614074707,
          27.53228187561035,
          -20.80878257751465,
          -3.542001247406006,
          -9.906383514404297,
          22.378005981445312,
          -22.642492294311523,
          -18.3671875,
          27.08432388305664,
          4.060000419616699,
          -25.12752914428711,
          -4.4238996505737305,
          -10.364143371582031,
          -9.41467571258545,
          1.8076879978179932,
          2.359950304031372,
          2.5961506366729736,
          -8.839066505432129,
          -12.797554016113281,
          5.839829444885254,
          -4.767901420593262,
          17.269981384277344,
          -22.083293914794922,
          1.1314512491226196,
          -9.135882377624512,
          22.18143081665039,
          5.801543235778809,
          -8.598905563354492,
          29.332836151123047,
          -11.019815444946289,
          -20.29145622253418,
          5.010899543762207,
          -10.276884078979492,
          -10.693577766418457,
          -6.698026180267334,
          -7.505333423614502,
          26.80825424194336,
          14.640968322753906,
          -0.3724786043167114,
          -6.449966907501221,
          -20.171770095825195,
          -13.780167579650879,
          -4.252133369445801,
          10.345478057861328,
          0.0832289606332779,
          -0.20103596150875092,
          -6.9111433029174805,
          -17.959142684936523,
          -4.928407192230225,
          9.548131942749023,
          11.040375709533691,
          -4.849933624267578,
          21.290739059448242,
          -22.822608947753906,
          11.75190544128418,
          -27.990859985351562,
          7.831284999847412,
          -3.974703073501587,
          -10.165019035339355,
          -17.627962112426758,
          -25.226587295532227,
          20.957971572875977,
          -24.20815086364746,
          13.301101684570312,
          4.861336708068848,
          -1.252577304840088,
          -0.29281049966812134,
          6.721793174743652,
          -10.840069770812988,
          -10.585603713989258,
          -1.2694588899612427,
          -10.97040843963623,
          10.770374298095703,
          10.762463569641113,
          -14.995999336242676,
          27.002853393554688,
          -19.58962631225586,
          -4.986484050750732,
          -7.505333423614502,
          8.29324722290039,
          5.56331205368042,
          13.503022193908691,
          0.7461662292480469,
          14.851436614990234,
          -13.0552978515625,
          31.62709617614746,
          20.391210556030273,
          -5.6648173332214355,
          13.3983793258667,
          13.816523551940918,
          -5.984204292297363,
          -16.066232681274414,
          1.2617475986480713,
          -24.575345993041992,
          -14.006558418273926,
          16.0406551361084,
          -7.133936882019043,
          18.491064071655273,
          -16.390201568603516,
          5.67997932434082,
          28.04916000366211,
          -7.51863431930542,
          30.415340423583984,
          11.815117835998535,
          3.685795545578003,
          5.951123237609863,
          -18.386137008666992,
          -5.918519973754883,
          -0.6421780586242676,
          -5.425256729125977,
          22.968183517456055,
          8.517976760864258,
          1.1512900590896606,
          -21.245100021362305,
          16.201251983642578,
          -1.6613849401474,
          19.37806510925293,
          -24.941791534423828,
          -13.096722602844238,
          8.210749626159668,
          4.052761554718018,
          5.116602897644043,
          -17.022930145263672,
          -23.557153701782227,
          18.321828842163086,
          -16.975919723510742,
          -6.224991321563721,
          1.76535964012146,
          -10.18567180633545,
          -6.204964637756348,
          -6.149043560028076,
          6.636470317840576,
          -9.418399810791016,
          21.96949005126953,
          -4.334660530090332,
          11.783154487609863,
          -25.09941864013672,
          17.0125789642334,
          -5.877131462097168,
          -20.26137924194336,
          -4.439756870269775,
          -4.550561428070068,
          30.153974533081055,
          -12.616890907287598,
          -2.737736225128174,
          1.8432033061981201,
          -22.089271545410156,
          -5.44041633605957,
          -12.463794708251953,
          -23.29485321044922,
          -22.62310218811035,
          -7.7315263748168945,
          29.90030288696289,
          -10.97994613647461,
          -19.087858200073242,
          11.070646286010742,
          3.7123117446899414,
          -0.5746423006057739,
          -7.197021484375,
          -1.168134093284607,
          21.616859436035156,
          -19.93280601501465,
          -22.268321990966797,
          13.13380241394043,
          -6.41497802734375,
          -0.8281295299530029,
          2.8591794967651367,
          13.011041641235352,
          -3.509424924850464,
          -15.513134002685547,
          21.0021915435791,
          -7.537958145141602,
          3.7026047706604004,
          14.135893821716309,
          -2.794241189956665,
          -13.162741661071777,
          -13.06472110748291,
          5.246732711791992,
          -4.401371955871582,
          0.47693440318107605,
          31.16722297668457,
          -12.463775634765625,
          -1.1455135345458984,
          -20.17469596862793,
          11.749825477600098,
          -6.6040358543396,
          28.65134048461914,
          12.19521713256836,
          -21.239416122436523,
          -19.70528793334961,
          -10.571718215942383,
          -19.56017303466797,
          10.423988342285156,
          -0.9700656533241272,
          -12.002741813659668,
          23.450050354003906,
          -16.544404983520508,
          4.788751125335693,
          -7.8258795738220215,
          -11.5033597946167,
          21.712772369384766,
          6.544556617736816,
          7.99140739440918,
          16.33379364013672,
          -28.338891983032227,
          -22.031267166137695,
          12.907981872558594,
          -15.533875465393066,
          7.182335376739502,
          21.27899932861328,
          -2.3173396587371826,
          7.7560625076293945,
          16.527381896972656,
          -10.54080867767334,
          -2.914372205734253,
          -19.580970764160156,
          3.350984573364258,
          -28.580707550048828,
          -7.179702281951904,
          3.9029719829559326,
          -13.244972229003906,
          -10.974535942077637,
          -22.123271942138672,
          -1.5817433595657349,
          19.383018493652344,
          -11.461682319641113,
          5.963032245635986,
          20.137441635131836,
          -5.000393390655518,
          -26.607685089111328,
          32.33640670776367,
          10.119694709777832,
          29.147056579589844,
          2.0232322216033936,
          2.3336410522460938,
          4.108084201812744,
          -16.2706356048584,
          -3.040513753890991,
          31.283348083496094,
          -14.47220230102539,
          -6.544179916381836,
          11.516525268554688,
          -22.383804321289062,
          -9.495576858520508,
          -24.727005004882812,
          16.61268424987793,
          5.340980052947998,
          -16.061492919921875,
          1.0142269134521484,
          -11.087085723876953,
          14.397730827331543,
          -1.226519227027893,
          32.57191467285156,
          10.818243026733398,
          3.0288901329040527,
          2.9436275959014893,
          -24.256227493286133,
          -5.1590962409973145,
          8.0208740234375,
          3.463580846786499,
          -18.47270965576172,
          -24.933195114135742,
          12.751067161560059,
          -17.781435012817383,
          22.14844512939453,
          -4.115782737731934,
          6.041223526000977,
          -0.6786254644393921,
          32.093788146972656,
          -7.42587423324585,
          8.38642692565918,
          -21.269638061523438,
          -10.155820846557617,
          30.58980941772461,
          0.34543049335479736,
          -17.376407623291016,
          1.51077401638031,
          7.293191432952881,
          -15.213677406311035,
          9.543669700622559,
          -12.703163146972656,
          -15.407968521118164,
          4.084262371063232,
          24.754825592041016,
          -10.136576652526855,
          -23.225749969482422,
          -1.9525444507598877,
          5.019741535186768,
          4.432784080505371,
          -12.860607147216797,
          -12.606965065002441,
          8.005803108215332,
          -8.110505104064941,
          -15.524104118347168,
          20.23585319519043,
          -25.349634170532227,
          1.0983318090438843,
          -13.306307792663574,
          4.2201313972473145,
          9.329322814941406,
          -5.197068691253662,
          4.646677494049072,
          5.911701679229736,
          -8.952047348022461,
          -3.1183958053588867,
          -8.936890602111816,
          -7.473595142364502,
          -8.731925964355469,
          13.760565757751465,
          17.269981384277344,
          18.71502685546875,
          2.8571763038635254,
          -18.74190902709961,
          18.010303497314453,
          -17.29840660095215,
          -11.051047325134277,
          17.46746063232422,
          -4.357846260070801,
          -9.068883895874023,
          6.508388996124268,
          19.593639373779297,
          13.859634399414062,
          -15.682798385620117,
          28.443321228027344,
          -23.605003356933594,
          -17.57184600830078,
          0.20557302236557007,
          4.611319065093994,
          -8.170137405395508,
          -16.60586166381836,
          9.406980514526367,
          -10.384574890136719,
          0.2063363790512085,
          31.360292434692383,
          18.047016143798828,
          -9.37242603302002,
          -3.710822582244873,
          -17.682159423828125,
          -14.959165573120117,
          -1.538015604019165,
          10.007155418395996,
          8.801587104797363,
          -10.219657897949219,
          11.089836120605469,
          21.970455169677734,
          2.3928909301757812,
          8.866780281066895,
          11.377351760864258,
          -3.89559006690979,
          -11.660207748413086,
          -2.8926525115966797,
          16.351261138916016,
          14.02376651763916,
          29.36585235595703,
          -11.776123046875,
          30.705251693725586,
          3.757896900177002,
          9.983386993408203,
          1.0711079835891724,
          -4.215754985809326,
          29.36585235595703,
          -8.169880867004395,
          -5.950443744659424,
          -15.3983793258667
         ],
         "xaxis": "x",
         "y": [
          -0.8584917187690735,
          -1.1745392084121704,
          -11.12127685546875,
          -9.80705451965332,
          1.4209283590316772,
          -2.0064098834991455,
          -2.7921359539031982,
          -19.668163299560547,
          14.937884330749512,
          12.699310302734375,
          -1.5250235795974731,
          0.1476287692785263,
          -18.47690200805664,
          -17.72638511657715,
          -9.806483268737793,
          -18.128292083740234,
          13.268176078796387,
          -4.864494800567627,
          18.9088191986084,
          -5.251617431640625,
          -20.393434524536133,
          0.33737054467201233,
          9.69100284576416,
          15.312187194824219,
          -21.048927307128906,
          2.909895658493042,
          -6.970081806182861,
          10.510991096496582,
          -0.552897572517395,
          18.434223175048828,
          -6.358979225158691,
          -0.9311186671257019,
          5.3747382164001465,
          11.792011260986328,
          -19.946247100830078,
          -11.004729270935059,
          17.009483337402344,
          -18.115325927734375,
          -1.7722021341323853,
          12.015573501586914,
          11.9627685546875,
          -7.307567119598389,
          -6.086158275604248,
          -13.838360786437988,
          -21.651025772094727,
          -3.11102032661438,
          4.47699499130249,
          -23.77605438232422,
          -12.835527420043945,
          -11.897258758544922,
          14.984708786010742,
          -10.568540573120117,
          3.051474094390869,
          2.078078508377075,
          -11.763352394104004,
          -3.982226610183716,
          -8.243742942810059,
          0.7867830395698547,
          -2.7303647994995117,
          23.94380760192871,
          -8.69865894317627,
          -8.130807876586914,
          19.64285659790039,
          -2.182187795639038,
          -19.51862907409668,
          -10.483413696289062,
          -5.132282733917236,
          8.144240379333496,
          -13.945090293884277,
          3.4179916381835938,
          6.785195827484131,
          -12.470563888549805,
          -20.41769790649414,
          3.0557780265808105,
          11.427935600280762,
          12.640666007995605,
          11.789360046386719,
          -8.480754852294922,
          -20.56971549987793,
          -4.449854373931885,
          -12.568598747253418,
          6.682450294494629,
          7.125722885131836,
          5.877058029174805,
          -8.512722969055176,
          8.212047576904297,
          11.805413246154785,
          -6.666261672973633,
          10.080026626586914,
          3.2628040313720703,
          0.9556580781936646,
          8.041524887084961,
          15.075510025024414,
          -4.1955976486206055,
          18.395509719848633,
          6.543944835662842,
          12.846367835998535,
          -8.014187812805176,
          6.511162757873535,
          16.300975799560547,
          2.0283203125,
          -5.055064678192139,
          6.852431297302246,
          8.544590950012207,
          19.746713638305664,
          -9.606095314025879,
          12.484153747558594,
          -4.062559127807617,
          -8.796825408935547,
          5.752819061279297,
          -2.1530399322509766,
          -19.232839584350586,
          2.5571775436401367,
          -21.298297882080078,
          -12.470563888549805,
          -0.5410584807395935,
          18.3131046295166,
          10.9166259765625,
          12.690964698791504,
          -4.108230113983154,
          3.997744083404541,
          -22.345800399780273,
          -6.929629802703857,
          6.5792951583862305,
          16.3570499420166,
          2.5548439025878906,
          -8.554011344909668,
          2.682037830352783,
          1.8652055263519287,
          -3.4607977867126465,
          -22.999507904052734,
          -6.434793472290039,
          15.490347862243652,
          -9.112038612365723,
          4.1330037117004395,
          -4.763055324554443,
          -22.443744659423828,
          -11.945982933044434,
          -22.85902976989746,
          0.9805012345314026,
          -7.729340076446533,
          -8.7852783203125,
          -0.8441463708877563,
          22.377092361450195,
          19.736249923706055,
          1.6563725471496582,
          -9.195538520812988,
          0.4700188636779785,
          9.443937301635742,
          -0.6944139003753662,
          12.494653701782227,
          18.937116622924805,
          -5.5410284996032715,
          3.754274606704712,
          3.953897476196289,
          4.152005195617676,
          6.170548439025879,
          -0.9590238332748413,
          -11.662749290466309,
          -4.535680770874023,
          10.78529167175293,
          -7.095733642578125,
          1.5227975845336914,
          -5.284883975982666,
          5.85194206237793,
          -15.097901344299316,
          -22.729490280151367,
          -5.534832000732422,
          9.188722610473633,
          -0.9079135060310364,
          -12.940469741821289,
          13.674838066101074,
          12.300458908081055,
          0.5480725765228271,
          16.730619430541992,
          -0.011016909964382648,
          -21.11668586730957,
          -4.069128513336182,
          -20.59697723388672,
          -10.713701248168945,
          13.153399467468262,
          12.187623023986816,
          0.5274880528450012,
          -1.150901436805725,
          -17.529787063598633,
          4.265707492828369,
          10.338003158569336,
          1.8839054107666016,
          -17.29061508178711,
          -8.45852279663086,
          6.522638320922852,
          17.731914520263672,
          18.5499324798584,
          2.886996269226074,
          -18.225502014160156,
          -17.65670394897461,
          -10.582364082336426,
          -11.088423728942871,
          10.39016342163086,
          5.183274269104004,
          3.8959195613861084,
          -11.56541633605957,
          -1.2933635711669922,
          8.135550498962402,
          -17.70771598815918,
          17.958988189697266,
          -3.3105812072753906,
          -4.3205695152282715,
          -12.99463939666748,
          6.061929225921631,
          2.8648290634155273,
          -24.441730499267578,
          -24.608482360839844,
          11.643206596374512,
          21.97258186340332,
          5.674891471862793,
          -17.613317489624023,
          -17.529457092285156,
          -9.92635440826416,
          14.999590873718262,
          -1.7761123180389404,
          0.8438552618026733,
          -17.50978660583496,
          15.146242141723633,
          10.605914115905762,
          -11.130976676940918,
          -6.272051811218262,
          17.739980697631836,
          3.22918438911438,
          -2.1536505222320557,
          -3.888066291809082,
          -8.00118350982666,
          -4.207629680633545,
          7.228450775146484,
          -2.094163417816162,
          -3.177855968475342,
          -8.582826614379883,
          -1.3410990238189697,
          10.8429594039917,
          -7.4024658203125,
          8.439979553222656,
          -4.923061370849609,
          8.365011215209961,
          -12.457791328430176,
          12.95872974395752,
          -9.97220230102539,
          -1.9869304895401,
          -11.506465911865234,
          -6.039480209350586,
          19.203384399414062,
          7.540532112121582,
          15.662463188171387,
          -14.30019474029541,
          8.22624397277832,
          9.683660507202148,
          -11.642239570617676,
          8.655228614807129,
          0.8232406973838806,
          -4.764523983001709,
          -8.451025009155273,
          -3.9258368015289307,
          13.225262641906738,
          9.539567947387695,
          6.232651233673096,
          -23.072633743286133,
          3.5303502082824707,
          -21.22019386291504,
          -8.827256202697754,
          -23.09798240661621,
          -2.444056272506714,
          -5.1439361572265625,
          19.359338760375977,
          -10.475900650024414,
          5.780389308929443,
          -20.6499080657959,
          8.029292106628418,
          9.383443832397461,
          -8.65662956237793,
          2.7873594760894775,
          -13.21054458618164,
          -1.0421078205108643,
          5.534915447235107,
          -2.629504919052124,
          8.376718521118164,
          11.330265045166016,
          -11.46529483795166,
          -9.739081382751465,
          -5.027693271636963,
          -19.898853302001953,
          9.360508918762207,
          23.09189796447754,
          23.07707977294922,
          10.165000915527344,
          -8.09024715423584,
          -3.5149316787719727,
          -1.653312087059021,
          -1.3206348419189453,
          6.658266544342041,
          5.020505905151367,
          10.966962814331055,
          0.9689240455627441,
          -10.180115699768066,
          9.978988647460938,
          0.5536434650421143,
          -18.575353622436523,
          -21.720767974853516,
          5.821411609649658,
          7.7021894454956055,
          -1.9450851678848267,
          -18.645702362060547,
          12.025797843933105,
          6.726502895355225,
          10.651995658874512,
          4.839094638824463,
          -5.29158878326416,
          12.012903213500977,
          -9.347469329833984,
          -5.1646528244018555,
          -7.25649881362915,
          -3.7548091411590576,
          -7.428829193115234,
          -7.8941755294799805,
          18.477779388427734,
          13.952958106994629,
          6.573634147644043,
          9.04133415222168,
          -0.9802253246307373,
          3.4894282817840576,
          17.767398834228516,
          17.905929565429688,
          -10.046937942504883,
          14.007463455200195,
          13.995434761047363,
          -17.90398597717285,
          14.7411527633667,
          4.888500213623047,
          21.871997833251953,
          0.6353287696838379,
          19.528148651123047,
          -7.530181884765625,
          6.1536359786987305,
          -14.321982383728027,
          5.8913798332214355,
          -12.292013168334961,
          -2.3702144622802734,
          0.7867830395698547,
          5.926414966583252,
          17.911954879760742,
          16.079774856567383,
          2.732560873031616,
          -11.686288833618164,
          12.721935272216797,
          5.716371059417725,
          15.525551795959473,
          3.857649564743042,
          -2.989068031311035,
          -8.653769493103027,
          15.23121452331543,
          13.985869407653809,
          -18.936777114868164,
          5.512405872344971,
          -7.247367858886719,
          -9.277749061584473,
          9.602184295654297,
          -21.440547943115234,
          1.65390944480896,
          -4.2223358154296875,
          0.8701668381690979,
          -9.278241157531738,
          -19.566810607910156,
          -1.0809240341186523,
          -10.433355331420898,
          4.9460368156433105,
          -10.269425392150879,
          11.79210090637207,
          2.756340980529785,
          6.744884014129639,
          6.943249702453613,
          6.107362747192383,
          11.586346626281738,
          -0.5501784086227417,
          11.211227416992188,
          4.499936103820801,
          17.293601989746094,
          10.23193645477295,
          9.511734962463379,
          2.7790627479553223,
          8.567349433898926,
          -2.669053316116333,
          -21.630830764770508,
          15.057515144348145,
          -21.577089309692383,
          -13.060063362121582,
          6.263949394226074,
          23.947345733642578,
          17.847003936767578,
          -21.630830764770508,
          -7.088159561157227,
          -9.599909782409668,
          10.689277648925781
         ],
         "yaxis": "y"
        }
       ],
       "layout": {
        "coloraxis": {
         "colorbar": {
          "title": {
           "text": "cluster"
          }
         },
         "colorscale": [
          [
           0,
           "rgb(0,0,255)"
          ],
          [
           1,
           "rgb(255,0,0)"
          ]
         ]
        },
        "height": 800,
        "legend": {
         "tracegroupgap": 0
        },
        "margin": {
         "t": 60
        },
        "template": {
         "data": {
          "bar": [
           {
            "error_x": {
             "color": "#2a3f5f"
            },
            "error_y": {
             "color": "#2a3f5f"
            },
            "marker": {
             "line": {
              "color": "#E5ECF6",
              "width": 0.5
             },
             "pattern": {
              "fillmode": "overlay",
              "size": 10,
              "solidity": 0.2
             }
            },
            "type": "bar"
           }
          ],
          "barpolar": [
           {
            "marker": {
             "line": {
              "color": "#E5ECF6",
              "width": 0.5
             },
             "pattern": {
              "fillmode": "overlay",
              "size": 10,
              "solidity": 0.2
             }
            },
            "type": "barpolar"
           }
          ],
          "carpet": [
           {
            "aaxis": {
             "endlinecolor": "#2a3f5f",
             "gridcolor": "white",
             "linecolor": "white",
             "minorgridcolor": "white",
             "startlinecolor": "#2a3f5f"
            },
            "baxis": {
             "endlinecolor": "#2a3f5f",
             "gridcolor": "white",
             "linecolor": "white",
             "minorgridcolor": "white",
             "startlinecolor": "#2a3f5f"
            },
            "type": "carpet"
           }
          ],
          "choropleth": [
           {
            "colorbar": {
             "outlinewidth": 0,
             "ticks": ""
            },
            "type": "choropleth"
           }
          ],
          "contour": [
           {
            "colorbar": {
             "outlinewidth": 0,
             "ticks": ""
            },
            "colorscale": [
             [
              0,
              "#0d0887"
             ],
             [
              0.1111111111111111,
              "#46039f"
             ],
             [
              0.2222222222222222,
              "#7201a8"
             ],
             [
              0.3333333333333333,
              "#9c179e"
             ],
             [
              0.4444444444444444,
              "#bd3786"
             ],
             [
              0.5555555555555556,
              "#d8576b"
             ],
             [
              0.6666666666666666,
              "#ed7953"
             ],
             [
              0.7777777777777778,
              "#fb9f3a"
             ],
             [
              0.8888888888888888,
              "#fdca26"
             ],
             [
              1,
              "#f0f921"
             ]
            ],
            "type": "contour"
           }
          ],
          "contourcarpet": [
           {
            "colorbar": {
             "outlinewidth": 0,
             "ticks": ""
            },
            "type": "contourcarpet"
           }
          ],
          "heatmap": [
           {
            "colorbar": {
             "outlinewidth": 0,
             "ticks": ""
            },
            "colorscale": [
             [
              0,
              "#0d0887"
             ],
             [
              0.1111111111111111,
              "#46039f"
             ],
             [
              0.2222222222222222,
              "#7201a8"
             ],
             [
              0.3333333333333333,
              "#9c179e"
             ],
             [
              0.4444444444444444,
              "#bd3786"
             ],
             [
              0.5555555555555556,
              "#d8576b"
             ],
             [
              0.6666666666666666,
              "#ed7953"
             ],
             [
              0.7777777777777778,
              "#fb9f3a"
             ],
             [
              0.8888888888888888,
              "#fdca26"
             ],
             [
              1,
              "#f0f921"
             ]
            ],
            "type": "heatmap"
           }
          ],
          "heatmapgl": [
           {
            "colorbar": {
             "outlinewidth": 0,
             "ticks": ""
            },
            "colorscale": [
             [
              0,
              "#0d0887"
             ],
             [
              0.1111111111111111,
              "#46039f"
             ],
             [
              0.2222222222222222,
              "#7201a8"
             ],
             [
              0.3333333333333333,
              "#9c179e"
             ],
             [
              0.4444444444444444,
              "#bd3786"
             ],
             [
              0.5555555555555556,
              "#d8576b"
             ],
             [
              0.6666666666666666,
              "#ed7953"
             ],
             [
              0.7777777777777778,
              "#fb9f3a"
             ],
             [
              0.8888888888888888,
              "#fdca26"
             ],
             [
              1,
              "#f0f921"
             ]
            ],
            "type": "heatmapgl"
           }
          ],
          "histogram": [
           {
            "marker": {
             "pattern": {
              "fillmode": "overlay",
              "size": 10,
              "solidity": 0.2
             }
            },
            "type": "histogram"
           }
          ],
          "histogram2d": [
           {
            "colorbar": {
             "outlinewidth": 0,
             "ticks": ""
            },
            "colorscale": [
             [
              0,
              "#0d0887"
             ],
             [
              0.1111111111111111,
              "#46039f"
             ],
             [
              0.2222222222222222,
              "#7201a8"
             ],
             [
              0.3333333333333333,
              "#9c179e"
             ],
             [
              0.4444444444444444,
              "#bd3786"
             ],
             [
              0.5555555555555556,
              "#d8576b"
             ],
             [
              0.6666666666666666,
              "#ed7953"
             ],
             [
              0.7777777777777778,
              "#fb9f3a"
             ],
             [
              0.8888888888888888,
              "#fdca26"
             ],
             [
              1,
              "#f0f921"
             ]
            ],
            "type": "histogram2d"
           }
          ],
          "histogram2dcontour": [
           {
            "colorbar": {
             "outlinewidth": 0,
             "ticks": ""
            },
            "colorscale": [
             [
              0,
              "#0d0887"
             ],
             [
              0.1111111111111111,
              "#46039f"
             ],
             [
              0.2222222222222222,
              "#7201a8"
             ],
             [
              0.3333333333333333,
              "#9c179e"
             ],
             [
              0.4444444444444444,
              "#bd3786"
             ],
             [
              0.5555555555555556,
              "#d8576b"
             ],
             [
              0.6666666666666666,
              "#ed7953"
             ],
             [
              0.7777777777777778,
              "#fb9f3a"
             ],
             [
              0.8888888888888888,
              "#fdca26"
             ],
             [
              1,
              "#f0f921"
             ]
            ],
            "type": "histogram2dcontour"
           }
          ],
          "mesh3d": [
           {
            "colorbar": {
             "outlinewidth": 0,
             "ticks": ""
            },
            "type": "mesh3d"
           }
          ],
          "parcoords": [
           {
            "line": {
             "colorbar": {
              "outlinewidth": 0,
              "ticks": ""
             }
            },
            "type": "parcoords"
           }
          ],
          "pie": [
           {
            "automargin": true,
            "type": "pie"
           }
          ],
          "scatter": [
           {
            "fillpattern": {
             "fillmode": "overlay",
             "size": 10,
             "solidity": 0.2
            },
            "type": "scatter"
           }
          ],
          "scatter3d": [
           {
            "line": {
             "colorbar": {
              "outlinewidth": 0,
              "ticks": ""
             }
            },
            "marker": {
             "colorbar": {
              "outlinewidth": 0,
              "ticks": ""
             }
            },
            "type": "scatter3d"
           }
          ],
          "scattercarpet": [
           {
            "marker": {
             "colorbar": {
              "outlinewidth": 0,
              "ticks": ""
             }
            },
            "type": "scattercarpet"
           }
          ],
          "scattergeo": [
           {
            "marker": {
             "colorbar": {
              "outlinewidth": 0,
              "ticks": ""
             }
            },
            "type": "scattergeo"
           }
          ],
          "scattergl": [
           {
            "marker": {
             "colorbar": {
              "outlinewidth": 0,
              "ticks": ""
             }
            },
            "type": "scattergl"
           }
          ],
          "scattermapbox": [
           {
            "marker": {
             "colorbar": {
              "outlinewidth": 0,
              "ticks": ""
             }
            },
            "type": "scattermapbox"
           }
          ],
          "scatterpolar": [
           {
            "marker": {
             "colorbar": {
              "outlinewidth": 0,
              "ticks": ""
             }
            },
            "type": "scatterpolar"
           }
          ],
          "scatterpolargl": [
           {
            "marker": {
             "colorbar": {
              "outlinewidth": 0,
              "ticks": ""
             }
            },
            "type": "scatterpolargl"
           }
          ],
          "scatterternary": [
           {
            "marker": {
             "colorbar": {
              "outlinewidth": 0,
              "ticks": ""
             }
            },
            "type": "scatterternary"
           }
          ],
          "surface": [
           {
            "colorbar": {
             "outlinewidth": 0,
             "ticks": ""
            },
            "colorscale": [
             [
              0,
              "#0d0887"
             ],
             [
              0.1111111111111111,
              "#46039f"
             ],
             [
              0.2222222222222222,
              "#7201a8"
             ],
             [
              0.3333333333333333,
              "#9c179e"
             ],
             [
              0.4444444444444444,
              "#bd3786"
             ],
             [
              0.5555555555555556,
              "#d8576b"
             ],
             [
              0.6666666666666666,
              "#ed7953"
             ],
             [
              0.7777777777777778,
              "#fb9f3a"
             ],
             [
              0.8888888888888888,
              "#fdca26"
             ],
             [
              1,
              "#f0f921"
             ]
            ],
            "type": "surface"
           }
          ],
          "table": [
           {
            "cells": {
             "fill": {
              "color": "#EBF0F8"
             },
             "line": {
              "color": "white"
             }
            },
            "header": {
             "fill": {
              "color": "#C8D4E3"
             },
             "line": {
              "color": "white"
             }
            },
            "type": "table"
           }
          ]
         },
         "layout": {
          "annotationdefaults": {
           "arrowcolor": "#2a3f5f",
           "arrowhead": 0,
           "arrowwidth": 1
          },
          "autotypenumbers": "strict",
          "coloraxis": {
           "colorbar": {
            "outlinewidth": 0,
            "ticks": ""
           }
          },
          "colorscale": {
           "diverging": [
            [
             0,
             "#8e0152"
            ],
            [
             0.1,
             "#c51b7d"
            ],
            [
             0.2,
             "#de77ae"
            ],
            [
             0.3,
             "#f1b6da"
            ],
            [
             0.4,
             "#fde0ef"
            ],
            [
             0.5,
             "#f7f7f7"
            ],
            [
             0.6,
             "#e6f5d0"
            ],
            [
             0.7,
             "#b8e186"
            ],
            [
             0.8,
             "#7fbc41"
            ],
            [
             0.9,
             "#4d9221"
            ],
            [
             1,
             "#276419"
            ]
           ],
           "sequential": [
            [
             0,
             "#0d0887"
            ],
            [
             0.1111111111111111,
             "#46039f"
            ],
            [
             0.2222222222222222,
             "#7201a8"
            ],
            [
             0.3333333333333333,
             "#9c179e"
            ],
            [
             0.4444444444444444,
             "#bd3786"
            ],
            [
             0.5555555555555556,
             "#d8576b"
            ],
            [
             0.6666666666666666,
             "#ed7953"
            ],
            [
             0.7777777777777778,
             "#fb9f3a"
            ],
            [
             0.8888888888888888,
             "#fdca26"
            ],
            [
             1,
             "#f0f921"
            ]
           ],
           "sequentialminus": [
            [
             0,
             "#0d0887"
            ],
            [
             0.1111111111111111,
             "#46039f"
            ],
            [
             0.2222222222222222,
             "#7201a8"
            ],
            [
             0.3333333333333333,
             "#9c179e"
            ],
            [
             0.4444444444444444,
             "#bd3786"
            ],
            [
             0.5555555555555556,
             "#d8576b"
            ],
            [
             0.6666666666666666,
             "#ed7953"
            ],
            [
             0.7777777777777778,
             "#fb9f3a"
            ],
            [
             0.8888888888888888,
             "#fdca26"
            ],
            [
             1,
             "#f0f921"
            ]
           ]
          },
          "colorway": [
           "#636efa",
           "#EF553B",
           "#00cc96",
           "#ab63fa",
           "#FFA15A",
           "#19d3f3",
           "#FF6692",
           "#B6E880",
           "#FF97FF",
           "#FECB52"
          ],
          "font": {
           "color": "#2a3f5f"
          },
          "geo": {
           "bgcolor": "white",
           "lakecolor": "white",
           "landcolor": "#E5ECF6",
           "showlakes": true,
           "showland": true,
           "subunitcolor": "white"
          },
          "hoverlabel": {
           "align": "left"
          },
          "hovermode": "closest",
          "mapbox": {
           "style": "light"
          },
          "paper_bgcolor": "white",
          "plot_bgcolor": "#E5ECF6",
          "polar": {
           "angularaxis": {
            "gridcolor": "white",
            "linecolor": "white",
            "ticks": ""
           },
           "bgcolor": "#E5ECF6",
           "radialaxis": {
            "gridcolor": "white",
            "linecolor": "white",
            "ticks": ""
           }
          },
          "scene": {
           "xaxis": {
            "backgroundcolor": "#E5ECF6",
            "gridcolor": "white",
            "gridwidth": 2,
            "linecolor": "white",
            "showbackground": true,
            "ticks": "",
            "zerolinecolor": "white"
           },
           "yaxis": {
            "backgroundcolor": "#E5ECF6",
            "gridcolor": "white",
            "gridwidth": 2,
            "linecolor": "white",
            "showbackground": true,
            "ticks": "",
            "zerolinecolor": "white"
           },
           "zaxis": {
            "backgroundcolor": "#E5ECF6",
            "gridcolor": "white",
            "gridwidth": 2,
            "linecolor": "white",
            "showbackground": true,
            "ticks": "",
            "zerolinecolor": "white"
           }
          },
          "shapedefaults": {
           "line": {
            "color": "#2a3f5f"
           }
          },
          "ternary": {
           "aaxis": {
            "gridcolor": "white",
            "linecolor": "white",
            "ticks": ""
           },
           "baxis": {
            "gridcolor": "white",
            "linecolor": "white",
            "ticks": ""
           },
           "bgcolor": "#E5ECF6",
           "caxis": {
            "gridcolor": "white",
            "linecolor": "white",
            "ticks": ""
           }
          },
          "title": {
           "x": 0.05
          },
          "xaxis": {
           "automargin": true,
           "gridcolor": "white",
           "linecolor": "white",
           "ticks": "",
           "title": {
            "standoff": 15
           },
           "zerolinecolor": "white",
           "zerolinewidth": 2
          },
          "yaxis": {
           "automargin": true,
           "gridcolor": "white",
           "linecolor": "white",
           "ticks": "",
           "title": {
            "standoff": 15
           },
           "zerolinecolor": "white",
           "zerolinewidth": 2
          }
         }
        },
        "title": {
         "text": "Embeddings of TikTok News Hashtags"
        },
        "width": 800,
        "xaxis": {
         "anchor": "y",
         "domain": [
          0,
          1
         ],
         "title": {
          "text": "tsne_1"
         }
        },
        "yaxis": {
         "anchor": "x",
         "domain": [
          0,
          1
         ],
         "title": {
          "text": "tsne_2"
         }
        }
       }
      }
     },
     "metadata": {},
     "output_type": "display_data"
    }
   ],
   "source": [
    "import plotly.io as pio\n",
    "\n",
    "tsne = TSNE(n_components=2, random_state=42)  \n",
    "tsne_results = tsne.fit_transform(embed10824)\n",
    "\n",
    "df = pd.DataFrame(tsne_results, columns=['tsne_1', 'tsne_2'])\n",
    "df['hashtag'] = suggwords10824\n",
    "df['cluster'] = clusters # the cluster indices where each news hashtags belong\n",
    "#df.head()\n",
    "\n",
    "# Create the scatter plot\n",
    "fig = px.scatter(df, x='tsne_1', y='tsne_2', text='hashtag', color=\"cluster\", color_continuous_scale=\"BlueRed\")\n",
    "\n",
    "# Format what to show next to the markers\n",
    "fig.update_traces(textposition='top center', \n",
    "                  mode='markers+text', \n",
    "                  textfont=dict(size=6))\n",
    "\n",
    "fig.update_layout(title='Embeddings of TikTok News Hashtags', width=800, height=800)\n",
    "fig.show()\n"
   ]
  },
  {
   "cell_type": "code",
   "execution_count": 87,
   "metadata": {},
   "outputs": [
    {
     "name": "stdout",
     "output_type": "stream",
     "text": [
      "Getting pyktok data from file videos-newsHashtags-10824_full.json\n",
      "Cluster 0:\n",
      "['revolution', 'engineer', 'prrrr', 'victorian', 'paparazzi', 'baby', 'shani', 'confessions', 'lawsuit', 'kids', 'travel', 'storytime', 'ring', 'tudor', 'inflation', 'jets', 'maydecember', 'victorian', 'highcourt', 'medieval', 'softwareengineer', 'phone', 'fgm', 'tragedy', 'missingsister', 'wap', 'missing', 'giants', 'barrel', 'trump', 'afcon', 'savage', 'fy', 'fy', 'mvp', 'baby', 'medieval', 'brice', 'socialite', 'streaming', 'deconstruction', 'cops', 'women', 'dancegodlloyd', 'travisalexandercase', 'fynnyvideo', 'couple', 'relatable', 'senator', 'lawyer', 'carribean', 'afcon', 'afcon', 'titans']\n",
      "Cluster 1:\n",
      "['broadbent', 'crimestories', 'crimestories', 'dad', 'capcut', 'crimestories', 'plymouthnews', 'crimestories', 'capcut', 'mom', 'judge', 'babygirl', 'judge', 'crimestories', 'jodiarias']\n",
      "Cluster 2:\n",
      "['fyp', 'fyp', 'fyp', 'fyp', 'fyp', 'fyp', 'fyp', 'fyp', 'fyp', 'fyp', 'fyp', 'fyp', 'fyp', 'fyp', 'fyp', 'fyp']\n",
      "Cluster 3:\n",
      "['realcrime', 'interrogationroom', 'jodiariascase', 'hotones', 'antycececomedy#onuatv', 'historytime', 'truecrimetikok', 'longervideos', 'anchivibes', 'burnaboy', 'royalhistory', 'untoldstories', 'africantiktok', 'beatriceokpeahior', 'dismantlethesystem', 'truestory', 'squidgame', 'enkyboysfamily', 'makethisviral', 'truecrimetikok', 'truestory', 'naijatiktok', 'entertainmentnews', 'losangeles', 'powertrip', 'herbalbirthcontrol', 'aaronrodgers', 'blackhistorymonth', '24ghcomedy', 'ghanatiktok🇬🇭', 'plantmedicine', '🥰🥰🥰', 'breakingnews', 'plymouthbomb', 'truecrimecommunity', 'equatorialguinea🇬🇶', 'africantiktok', 'marykaylatourneau', 'ghanatiktok🇬🇭', 'crimetok', 'truestory', 'undetonated', 'newsfyp', 'copstiktok', 'ghanatiktok🇬🇭', 'lopezvslopez', 'xyzbca', 'fypシ゚viral', 'unsolvedmysteries', 'whattowatch', 'breakingnews', 'enkyboys', 'policeofficer', 'crimetok', 'truecrimecommunity', 'viraltiktok', 'capeverde', 'kenyantiktok🇰🇪', 'truestory', 'gypsyroseblanchard', 'trevornoah', 'longervideos', 'truecrimecommunity', 'willowsmith', 'tinubu', 'viralpage', 'usa_tiktok', 'reesateesaexhusband', 'chaseyourdreams', 'shamimabegum', 'chateaudeversailles', 'interrogationroom', 'gypsyroseandryan', 'afrofuture', 'newyear', 'covid', 'truecrimecase', 'romanempire', 'crimetikok', 'truestory', 'interrogationroom', 'truestory', 'interrogationroom', 'copstiktok', 'hitandrun']\n",
      "Cluster 4:\n",
      "['news', 'history', 'news', 'law', 'facts', 'history', 'news', 'history', 'google', 'news', 'entertainment', 'mystery', 'history', 'history', 'news', 'found', 'history', 'news', 'documentary', 'trivia', 'news', 'news', 'dating', 'trending', 'trending', 'netflix', 'gossip', 'documentary', 'review', 'entertainment', 'documentary']\n",
      "Cluster 5:\n",
      "['bobbyletmegetaring', 'foryou', 'foryou', 'coutroom', 'fypシ', 'foryou', 'truecrimestory', 'foryou', 'foryou', 'atadwecomedy', 'bestvideo2024', 'coutroom', 'coutroom', 'foryou', 'foryou', 'fypシ', 'foryou', 'fypシ', 'foryou', 'inprison']\n",
      "Cluster 6:\n",
      "['truecrime', 'truecrime', 'truecrime', 'historytok', 'historytok', 'truecrime', 'truecrime', 'truecrime', 'truecrime', 'historytok', 'truecrime', 'truecrime', 'truecrime', 'truecrime', 'truecrime', 'truecrime', 'historytok', 'historytok']\n",
      "Cluster 7:\n",
      "['historytiktok', 'greenscreenvideo', 'learnwithtiktok', 'realmadrid', 'travisalexander', 'learnwithtiktok', 'historytiktok', 'divorcetok', 'learnwithtiktok', 'pourtoi', 'historytiktok', 'crissy', 'whatstrending', 'learnwithtiktok', 'learnwithtiktok']\n",
      "Cluster 8:\n",
      "['interrogation', 'interview', 'interview', 'interview', 'interview', 'interrogation', 'interview', 'interview', 'interrogation', 'interrogation', 'interrogation', 'interrogation']\n",
      "Cluster 9:\n",
      "['sarfonewman', 'murdertrial', 'momsoftiktok', 'learnontiktok', 'hotgirl', 'midtermszn', 'learnontiktok', 'reesateesa', 'truecrimetok', 'longvideos', 'foryoupage', 'historyfacts', 'staffordcounty', 'truecrimetiktok', 'historyfacts', '🤣🤣🤣', 'nigeriantiktok🇳🇬', 'learnontiktok', 'truecrimetiktok', 'longvideos', 'seanevans', 'omahlay', 'ghanafuodotcom', 'foryoupage', 'gypsyroseblanchardedit', 'ghanatiktokers🇬🇭🇬🇭🇬🇭', 'ghanafuodotcom', 'nigeriantiktok🇳🇬', 'cmrandshanimixup', 'abia', 'truecrimetok', 'onthisday', 'tiktok', 'lawandcrime', 'viralnews', 'henryviii', 'dogtreats', 'learnontiktok', 'foryoupage', 'lawandcrime', 'shouzichew', 'learnontiktok', 'truecrimetiktok', 'learnontiktok', 'foryourpage', 'criminalstories', 'nigeriatiktok', 'foryourpage']\n",
      "Cluster 10:\n",
      "['murder', 'murder', 'murder', 'murder', 'murder', 'murder', 'murder', 'murder', 'murder', 'murder', 'murder']\n",
      "Cluster 11:\n",
      "['crime', 'crime', 'crime', 'prison', 'crime', 'crime', 'crime', 'prison', 'crime', 'crime', 'crime', 'crime', 'crime', 'crime', 'crime', 'crime', 'prison', 'crime', 'crime', 'crime', 'crime', 'prison']\n",
      "Cluster 12:\n",
      "['nfl', 'nigeria', 'colorado', 'usa', 'nigeria', 'houston', 'football', 'ucl', 'sports', 'football', 'london', 'usa', 'singapore', 'african', 'nigeria', 'football', 'korea', 'korea', 'sports', 'barcelona', 'college', 'football', 'nfl', 'turkey', 'soccer', 'syria', 'russia', 'ghana', 'korea', 'sports', 'africa', 'american', 'britain', 'nigeria', 'england', 'football']\n",
      "Cluster 13:\n",
      "['grandma', 'funny', 'funny', 'scary', 'scary', 'grandpa']\n",
      "Cluster 14:\n",
      "['viral', 'viral', 'viral', 'viral', 'viral', 'viral', 'viral', 'viral', 'viral', 'viral', 'viral']\n"
     ]
    },
    {
     "data": {
      "image/png": "[encoded data removed]",
      "text/plain": [
       "<Figure size 640x480 with 1 Axes>"
      ]
     },
     "metadata": {},
     "output_type": "display_data"
    }
   ],
   "source": [
    "#filtered data\n",
    "newswords10824 = sample(getsuggested_wordsfromjson('videos-newsHashtags-10824_full.json'),400)\n",
    "newswords10824\n",
    "\n",
    "embednews10824 = embed(newswords10824)\n",
    "\n",
    "callKmeans(15,embednews10824,newswords10824)\n",
    "\n",
    "elbowMethod(embednews10824, 20)\n"
   ]
  },
  {
   "cell_type": "code",
   "execution_count": 89,
   "metadata": {},
   "outputs": [
    {
     "data": {
      "text/plain": [
       "Counter({2: 221, 0: 137, 1: 42})"
      ]
     },
     "execution_count": 89,
     "metadata": {},
     "output_type": "execute_result"
    }
   ],
   "source": [
    "k = 3\n",
    "kmeans = KMeans(n_clusters=k, random_state=42)\n",
    "clustersN = kmeans.fit_predict(embednews10824)\n",
    "Counter(clusters)"
   ]
  },
  {
   "cell_type": "code",
   "execution_count": 90,
   "metadata": {},
   "outputs": [
    {
     "data": {
      "application/vnd.plotly.v1+json": {
       "config": {
        "plotlyServerURL": "https://plot.ly"
       },
       "data": [
        {
         "hovertemplate": "tsne_1=%{x}<br>tsne_2=%{y}<br>hashtag=%{text}<br>cluster=%{marker.color}<extra></extra>",
         "legendgroup": "",
         "marker": {
          "color": [
           2,
           2,
           2,
           2,
           2,
           2,
           2,
           2,
           0,
           2,
           0,
           0,
           1,
           2,
           2,
           1,
           2,
           1,
           2,
           2,
           2,
           2,
           0,
           2,
           2,
           0,
           0,
           0,
           2,
           2,
           2,
           2,
           2,
           0,
           2,
           0,
           2,
           0,
           2,
           2,
           0,
           0,
           0,
           2,
           1,
           2,
           0,
           1,
           1,
           0,
           0,
           2,
           2,
           2,
           0,
           2,
           0,
           0,
           0,
           0,
           0,
           2,
           2,
           2,
           0,
           2,
           2,
           2,
           0,
           0,
           2,
           2,
           0,
           0,
           0,
           2,
           1,
           2,
           0,
           0,
           2,
           2,
           0,
           2,
           2,
           2,
           0,
           0,
           2,
           2,
           2,
           0,
           2,
           2,
           2,
           0,
           0,
           0,
           1,
           0,
           0,
           2,
           0,
           1,
           2,
           0,
           2,
           0,
           0,
           2,
           2,
           2,
           2,
           2,
           2,
           2,
           2,
           1,
           2,
           0,
           0,
           2,
           1,
           2,
           1,
           2,
           0,
           2,
           1,
           0,
           2,
           0,
           2,
           2,
           0,
           2,
           0,
           2,
           0,
           0,
           2,
           1,
           2,
           1,
           1,
           2,
           2,
           2,
           2,
           0,
           0,
           2,
           0,
           2,
           2,
           0,
           0,
           2,
           0,
           2,
           2,
           0,
           0,
           2,
           2,
           2,
           0,
           2,
           1,
           0,
           2,
           2,
           1,
           0,
           2,
           1,
           2,
           1,
           2,
           2,
           2,
           1,
           1,
           2,
           2,
           2,
           2,
           2,
           2,
           2,
           2,
           2,
           1,
           1,
           2,
           2,
           0,
           2,
           0,
           0,
           2,
           2,
           1,
           2,
           1,
           2,
           0,
           2,
           2,
           0,
           2,
           2,
           0,
           2,
           2,
           2,
           0,
           0,
           2,
           2,
           2,
           2,
           0,
           0,
           2,
           2,
           2,
           0,
           2,
           2,
           0,
           1,
           0,
           0,
           0,
           2,
           2,
           2,
           0,
           2,
           2,
           2,
           2,
           2,
           2,
           0,
           2,
           1,
           1,
           2,
           2,
           2,
           2,
           0,
           2,
           0,
           2,
           0,
           0,
           0,
           1,
           2,
           1,
           0,
           2,
           0,
           2,
           2,
           2,
           2,
           2,
           2,
           2,
           2,
           2,
           2,
           0,
           2,
           2,
           2,
           0,
           0,
           2,
           0,
           0,
           2,
           2,
           0,
           0,
           2,
           2,
           2,
           0,
           0,
           0,
           2,
           2,
           2,
           0,
           2,
           2,
           2,
           2,
           2,
           0,
           2,
           1,
           1,
           1,
           0,
           1,
           0,
           0,
           2,
           2,
           2,
           0,
           2,
           0,
           2,
           0,
           2,
           2,
           0,
           2,
           1,
           0,
           2,
           2,
           2,
           2,
           2,
           1,
           0,
           0,
           1,
           2,
           2,
           0,
           2,
           2,
           2,
           2,
           0,
           0,
           2,
           0,
           0,
           2,
           2,
           0,
           2,
           0,
           2,
           2,
           0,
           0,
           1,
           0,
           0,
           0,
           0,
           0,
           0,
           2,
           0,
           0,
           0,
           2,
           2,
           0,
           2,
           2,
           2,
           0,
           2,
           2,
           0,
           2,
           2,
           1,
           0,
           1,
           0,
           0,
           2,
           0,
           2,
           2,
           2,
           0,
           2,
           2,
           0,
           0,
           2,
           1,
           2,
           2,
           2
          ],
          "coloraxis": "coloraxis",
          "symbol": "circle"
         },
         "mode": "markers+text",
         "name": "",
         "orientation": "v",
         "showlegend": false,
         "text": [
          "fyp",
          "realcrime",
          "interrogationroom",
          "truecrime",
          "sarfonewman",
          "murdertrial",
          "bobbyletmegetaring",
          "broadbent",
          "revolution",
          "jodiariascase",
          "nfl",
          "engineer",
          "news",
          "momsoftiktok",
          "learnontiktok",
          "nigeria",
          "fyp",
          "history",
          "historytiktok",
          "hotgirl",
          "hotones",
          "prrrr",
          "victorian",
          "midtermszn",
          "antycececomedy#onuatv",
          "murder",
          "crime",
          "interrogation",
          "historytime",
          "truecrimetikok",
          "greenscreenvideo",
          "foryou",
          "longervideos",
          "paparazzi",
          "anchivibes",
          "grandma",
          "learnontiktok",
          "colorado",
          "burnaboy",
          "fyp",
          "baby",
          "crime",
          "murder",
          "crimestories",
          "usa",
          "reesateesa",
          "crime",
          "interview",
          "nigeria",
          "murder",
          "shani",
          "foryou",
          "fyp",
          "royalhistory",
          "houston",
          "untoldstories",
          "confessions",
          "lawsuit",
          "football",
          "murder",
          "ucl",
          "africantiktok",
          "crimestories",
          "beatriceokpeahior",
          "prison",
          "dismantlethesystem",
          "truestory",
          "squidgame",
          "sports",
          "crime",
          "truecrimetok",
          "longvideos",
          "murder",
          "kids",
          "viral",
          "enkyboysfamily",
          "news",
          "makethisviral",
          "dad",
          "travel",
          "coutroom",
          "fyp",
          "storytime",
          "truecrimetikok",
          "truestory",
          "fypシ",
          "ring",
          "murder",
          "foryou",
          "foryoupage",
          "naijatiktok",
          "viral",
          "historyfacts",
          "learnwithtiktok",
          "realmadrid",
          "tudor",
          "law",
          "inflation",
          "facts",
          "viral",
          "football",
          "entertainmentnews",
          "crime",
          "history",
          "travisalexander",
          "london",
          "staffordcounty",
          "jets",
          "viral",
          "losangeles",
          "powertrip",
          "herbalbirthcontrol",
          "truecrimetiktok",
          "aaronrodgers",
          "blackhistorymonth",
          "maydecember",
          "fyp",
          "news",
          "fyp",
          "murder",
          "truecrimestory",
          "24ghcomedy",
          "history",
          "ghanatiktok🇬🇭",
          "usa",
          "historyfacts",
          "victorian",
          "plantmedicine",
          "singapore",
          "african",
          "capcut",
          "viral",
          "truecrime",
          "🥰🥰🥰",
          "highcourt",
          "🤣🤣🤣",
          "medieval",
          "breakingnews",
          "viral",
          "crime",
          "crimestories",
          "google",
          "nigeriantiktok🇳🇬",
          "news",
          "interview",
          "learnontiktok",
          "truecrimetiktok",
          "longvideos",
          "seanevans",
          "softwareengineer",
          "entertainment",
          "truecrime",
          "funny",
          "omahlay",
          "plymouthbomb",
          "phone",
          "fgm",
          "ghanafuodotcom",
          "tragedy",
          "foryou",
          "truecrimecommunity",
          "prison",
          "crime",
          "historytok",
          "foryou",
          "atadwecomedy",
          "mystery",
          "missingsister",
          "nigeria",
          "football",
          "equatorialguinea🇬🇶",
          "fyp",
          "history",
          "viral",
          "africantiktok",
          "interview",
          "marykaylatourneau",
          "history",
          "learnwithtiktok",
          "foryoupage",
          "ghanatiktok🇬🇭",
          "korea",
          "interview",
          "gypsyroseblanchardedit",
          "historytok",
          "crimetok",
          "bestvideo2024",
          "plymouthnews",
          "historytiktok",
          "truestory",
          "undetonated",
          "fyp",
          "news",
          "found",
          "ghanatiktokers🇬🇭🇬🇭🇬🇭",
          "coutroom",
          "viral",
          "wap",
          "interrogation",
          "missing",
          "divorcetok",
          "newsfyp",
          "korea",
          "ghanafuodotcom",
          "giants",
          "copstiktok",
          "barrel",
          "nigeriantiktok🇳🇬",
          "cmrandshanimixup",
          "sports",
          "truecrime",
          "learnwithtiktok",
          "barcelona",
          "abia",
          "ghanatiktok🇬🇭",
          "pourtoi",
          "trump",
          "crime",
          "coutroom",
          "foryou",
          "truecrimetok",
          "foryou",
          "afcon",
          "funny",
          "lopezvslopez",
          "onthisday",
          "fyp",
          "crime",
          "fypシ",
          "xyzbca",
          "savage",
          "history",
          "murder",
          "college",
          "crime",
          "fy",
          "foryou",
          "historytiktok",
          "football",
          "tiktok",
          "fy",
          "fyp",
          "crimestories",
          "fypシ゚viral",
          "lawandcrime",
          "nfl",
          "truecrime",
          "news",
          "documentary",
          "fypシ",
          "viralnews",
          "henryviii",
          "unsolvedmysteries",
          "mvp",
          "crissy",
          "baby",
          "whattowatch",
          "medieval",
          "crime",
          "crime",
          "trivia",
          "capcut",
          "interview",
          "turkey",
          "breakingnews",
          "soccer",
          "enkyboys",
          "truecrime",
          "policeofficer",
          "truecrime",
          "crimetok",
          "historytok",
          "truecrimecommunity",
          "viraltiktok",
          "capeverde",
          "kenyantiktok🇰🇪",
          "murder",
          "truestory",
          "truecrime",
          "gypsyroseblanchard",
          "mom",
          "viral",
          "trevornoah",
          "brice",
          "socialite",
          "longervideos",
          "dogtreats",
          "streaming",
          "syria",
          "truecrimecommunity",
          "willowsmith",
          "learnontiktok",
          "russia",
          "judge",
          "crime",
          "deconstruction",
          "truecrime",
          "truecrime",
          "cops",
          "foryoupage",
          "tinubu",
          "fyp",
          "truecrime",
          "viralpage",
          "viral",
          "whatstrending",
          "interview",
          "ghana",
          "korea",
          "women",
          "news",
          "scary",
          "interrogation",
          "truecrime",
          "dancegodlloyd",
          "learnwithtiktok",
          "crime",
          "usa_tiktok",
          "travisalexandercase",
          "lawandcrime",
          "sports",
          "truecrime",
          "fynnyvideo",
          "prison",
          "historytok",
          "news",
          "crime",
          "reesateesaexhusband",
          "fyp",
          "chaseyourdreams",
          "shouzichew",
          "shamimabegum",
          "dating",
          "africa",
          "trending",
          "american",
          "learnontiktok",
          "truecrimetiktok",
          "couple",
          "chateaudeversailles",
          "interrogationroom",
          "learnwithtiktok",
          "learnontiktok",
          "crime",
          "relatable",
          "gypsyroseandryan",
          "trending",
          "britain",
          "historytok",
          "foryou",
          "murder",
          "afrofuture",
          "senator",
          "newyear",
          "covid",
          "interrogation",
          "netflix",
          "nigeria",
          "lawyer",
          "gossip",
          "england",
          "scary",
          "interrogation",
          "crime",
          "babygirl",
          "judge",
          "grandpa",
          "viral",
          "truecrimecase",
          "crimestories",
          "carribean",
          "fyp",
          "romanempire",
          "foryourpage",
          "crime",
          "crimetikok",
          "criminalstories",
          "prison",
          "fyp",
          "truestory",
          "documentary",
          "football",
          "review",
          "murder",
          "afcon",
          "nigeriatiktok",
          "afcon",
          "interrogationroom",
          "inprison",
          "fyp",
          "entertainment",
          "truestory",
          "interrogationroom",
          "interrogation",
          "titans",
          "jodiarias",
          "documentary",
          "copstiktok",
          "hitandrun",
          "foryourpage"
         ],
         "textfont": {
          "size": 6
         },
         "textposition": "top center",
         "type": "scatter",
         "x": [
          -49.49168014526367,
          -8.34394359588623,
          -13.82084846496582,
          -93.51512145996094,
          -50.3138427734375,
          -83.94225311279297,
          -74.89766693115234,
          -12.187228202819824,
          0.635729968547821,
          -51.24555969238281,
          88.61083221435547,
          11.36803913116455,
          68.92330169677734,
          -74.62946319580078,
          -121.6476821899414,
          38.011077880859375,
          -58.89816665649414,
          86.55145263671875,
          -130.88938903808594,
          -95.47050476074219,
          -44.84839630126953,
          60.11424255371094,
          80.56747436523438,
          -26.154937744140625,
          -62.28067398071289,
          122.74357604980469,
          158.7641143798828,
          53.474517822265625,
          -64.54657745361328,
          -11.974708557128906,
          -111.96392059326172,
          29.72135353088379,
          -53.38658142089844,
          39.429508209228516,
          -44.26483154296875,
          26.056421279907227,
          -115.22146606445312,
          73.85930633544922,
          -34.08761978149414,
          -40.153987884521484,
          33.59151077270508,
          165.67538452148438,
          123.05670928955078,
          -28.705726623535156,
          79.21800994873047,
          -97.08291625976562,
          152.29714965820312,
          66.33729553222656,
          38.011077880859375,
          123.05670928955078,
          -118.51510620117188,
          24.55524444580078,
          -47.27287673950195,
          -64.48847198486328,
          65.62154388427734,
          -8.721464157104492,
          -19.26309585571289,
          122.78199005126953,
          73.47756958007812,
          123.05670928955078,
          53.328697204589844,
          -52.8878059387207,
          -35.74624252319336,
          -66.9720230102539,
          148.957763671875,
          -39.11334228515625,
          -0.28117868304252625,
          -43.06855010986328,
          60.11027908325195,
          152.29714965820312,
          -100.75704193115234,
          -66.83562469482422,
          123.05670928955078,
          41.25973129272461,
          116.90060424804688,
          -37.489418029785156,
          68.92330169677734,
          -42.50210952758789,
          20.653364181518555,
          -6.278115272521973,
          -66.34947967529297,
          -46.97403335571289,
          -17.300031661987305,
          -11.974708557128906,
          -10.782188415527344,
          4.438149452209473,
          16.597930908203125,
          123.05670928955078,
          37.02930450439453,
          -71.28177642822266,
          19.078659057617188,
          112.05543518066406,
          -94.65376281738281,
          -109.22415924072266,
          46.5177001953125,
          85.06346893310547,
          122.5925064086914,
          -8.825106620788574,
          76.5509262084961,
          116.90060424804688,
          80.5204849243164,
          -22.465524673461914,
          164.72084045410156,
          91.10739135742188,
          -112.02730560302734,
          60.85200500488281,
          -85.15167236328125,
          78.54922485351562,
          116.90060424804688,
          -25.27457046508789,
          -23.80478286743164,
          -63.27198791503906,
          -109.93836975097656,
          -32.465274810791016,
          -40.419132232666016,
          -38.219322204589844,
          -39.77039337158203,
          68.92330169677734,
          -55.50562286376953,
          123.05670928955078,
          24.923828125,
          -59.78815841674805,
          93.54051971435547,
          -42.63526916503906,
          79.21800994873047,
          -97.66291046142578,
          80.56747436523438,
          -27.504228591918945,
          43.68608474731445,
          22.4786319732666,
          -27.841251373291016,
          116.90060424804688,
          -95.2410659790039,
          -22.502479553222656,
          -70.97058868408203,
          -77.73179626464844,
          76.79800415039062,
          -26.243494033813477,
          120.58757781982422,
          137.8024444580078,
          -31.974037170410156,
          60.97328567504883,
          -77.93262481689453,
          68.92330169677734,
          66.33729553222656,
          -116.6453857421875,
          -110.44488525390625,
          -66.83562469482422,
          -80.75757598876953,
          -17.412240982055664,
          52.3266716003418,
          -89.66444396972656,
          36.837642669677734,
          -70.36388397216797,
          18.243104934692383,
          22.740938186645508,
          -24.59069061279297,
          -56.63588333129883,
          110.11388397216797,
          22.017864227294922,
          6.461029529571533,
          148.957763671875,
          144.92184448242188,
          -67.65635681152344,
          28.450040817260742,
          13.64444637298584,
          93.07614135742188,
          -32.713356018066406,
          38.011077880859375,
          76.74659729003906,
          -43.270721435546875,
          -56.34037399291992,
          86.55145263671875,
          116.90060424804688,
          -52.8878059387207,
          66.33729553222656,
          -31.985788345336914,
          84.81221771240234,
          -109.22415924072266,
          -71.29187774658203,
          -39.78840637207031,
          36.26668930053711,
          58.7260856628418,
          -63.06180191040039,
          -72.12976837158203,
          -1.837780475616455,
          14.691847801208496,
          -44.972618103027344,
          -132.96922302246094,
          2.6662838459014893,
          -46.06964874267578,
          -38.553157806396484,
          68.92330169677734,
          42.197818756103516,
          -78.45352172851562,
          -60.834842681884766,
          112.05543518066406,
          -27.425113677978516,
          45.79944610595703,
          43.018192291259766,
          -140.53720092773438,
          -56.30348587036133,
          34.107730865478516,
          -56.63588333129883,
          87.84313201904297,
          -11.275078773498535,
          -0.9513484835624695,
          -77.93262481689453,
          -90.00253295898438,
          60.11027908325195,
          -86.30777740478516,
          -103.43636322021484,
          55.86880874633789,
          -107.08927154541016,
          -42.63526916503906,
          -114.38751220703125,
          106.0137710571289,
          153.3546600341797,
          -63.28903579711914,
          33.31087112426758,
          -100.75704193115234,
          26.307483673095703,
          37.173580169677734,
          36.837642669677734,
          -87.05268859863281,
          -109.00859832763672,
          -35.18110656738281,
          150.83924865722656,
          5.38293981552124,
          -12.022293090820312,
          20.408376693725586,
          80.10157775878906,
          123.05670928955078,
          93.05973815917969,
          144.92184448242188,
          -48.823177337646484,
          37.250885009765625,
          -130.88938903808594,
          79.7630386352539,
          -97.71941375732422,
          -48.823177337646484,
          -42.64761734008789,
          -28.705726623535156,
          -17.820980072021484,
          -80.50443267822266,
          84.02980041503906,
          -96.45743560791016,
          68.92330169677734,
          14.231339454650879,
          5.38293981552124,
          -106.2409896850586,
          -97.59688568115234,
          -54.76801300048828,
          -36.85234451293945,
          -124.48704528808594,
          34.934410095214844,
          -57.14896011352539,
          76.79800415039062,
          144.92184448242188,
          144.2375030517578,
          66.13814544677734,
          -27.841251373291016,
          58.7260856628418,
          55.91423416137695,
          -28.68210792541504,
          71.75276184082031,
          -40.00385284423828,
          -102.58683776855469,
          -2.2718069553375244,
          -109.03846740722656,
          -5.380953788757324,
          -73.83988189697266,
          8.298456192016602,
          -75.59516906738281,
          -21.139583587646484,
          -40.31529998779297,
          123.05670928955078,
          -4.278888702392578,
          -99.73240661621094,
          -0.728950023651123,
          25.15240478515625,
          110.13432312011719,
          -47.645118713378906,
          -14.768458366394043,
          31.917945861816406,
          -57.56191635131836,
          -77.53665924072266,
          51.0052604675293,
          64.43156433105469,
          8.298456192016602,
          -142.6089630126953,
          -110.59492492675781,
          61.49190902709961,
          129.07432556152344,
          158.5916290283203,
          4.549389839172363,
          -89.88211059570312,
          -102.50699615478516,
          159.83340454101562,
          -76.06305694580078,
          -32.34779739379883,
          -48.141822814941406,
          -107.52043151855469,
          -2.684515953063965,
          125.62153625488281,
          -122.33726501464844,
          64.19058990478516,
          37.66314697265625,
          34.107730865478516,
          46.90861129760742,
          76.41780853271484,
          103.71686553955078,
          45.79944610595703,
          -96.78271484375,
          9.708335876464844,
          -102.67853546142578,
          158.5916290283203,
          -35.90420150756836,
          35.355323791503906,
          -82.02628326416016,
          60.11027908325195,
          -104.27063751220703,
          -41.85257339477539,
          148.957763671875,
          -72.12976837158203,
          68.92330169677734,
          148.5964813232422,
          -93.02041625976562,
          -48.141822814941406,
          -83.6816635131836,
          -88.01464080810547,
          -55.02165985107422,
          54.834224700927734,
          27.248994827270508,
          129.6154327392578,
          80.94450378417969,
          -121.89106750488281,
          -105.36094665527344,
          52.002559661865234,
          -54.35637664794922,
          -17.847492218017578,
          -109.22415924072266,
          -114.9324951171875,
          148.5964813232422,
          -8.812253952026367,
          -30.43729591369629,
          129.6154327392578,
          60.91603469848633,
          -78.42981719970703,
          31.628131866455078,
          123.05670928955078,
          -37.31489562988281,
          -10.236393928527832,
          -14.990071296691895,
          -48.82197570800781,
          45.79944610595703,
          57.41019821166992,
          38.011077880859375,
          122.03324890136719,
          90.14910888671875,
          56.490108489990234,
          103.71686553955078,
          45.79944610595703,
          159.14901733398438,
          26.603893280029297,
          129.07432556152344,
          21.642852783203125,
          107.00231170654297,
          -54.8528938293457,
          -35.74624252319336,
          15.387580871582031,
          -54.415069580078125,
          -114.9611587524414,
          -133.58705139160156,
          148.5964813232422,
          -69.52005767822266,
          -96.43212127685547,
          148.957763671875,
          -48.141822814941406,
          -6.648253440856934,
          14.231339454650879,
          83.70365905761719,
          56.996124267578125,
          123.05670928955078,
          37.173580169677734,
          -93.61708068847656,
          37.173580169677734,
          -9.59222412109375,
          10.054341316223145,
          -48.141822814941406,
          52.3266716003418,
          -4.278888702392578,
          -13.605939865112305,
          53.474517822265625,
          81.20135498046875,
          -32.71502685546875,
          14.231339454650879,
          -13.31595230102539,
          -61.370731353759766,
          -133.4788818359375
         ],
         "xaxis": "x",
         "y": [
          -100.53490447998047,
          25.067039489746094,
          44.026187896728516,
          65.59452056884766,
          -3.401028871536255,
          24.216217041015625,
          32.21578598022461,
          -55.90607833862305,
          57.4640998840332,
          -27.47913932800293,
          3.428891897201538,
          -22.919832229614258,
          39.5857048034668,
          3.528498649597168,
          -20.570812225341797,
          127.26996612548828,
          -110.55088806152344,
          67.10330200195312,
          -64.0233154296875,
          36.94692611694336,
          -34.71380615234375,
          50.0949592590332,
          -52.79814910888672,
          -109.7501220703125,
          -3.7445480823516846,
          29.9266414642334,
          45.57518005371094,
          -106.36924743652344,
          14.139652252197266,
          -80.31797790527344,
          -56.94755935668945,
          16.984949111938477,
          -19.449174880981445,
          -12.64808464050293,
          -13.97406005859375,
          -78.94865417480469,
          -30.426000595092773,
          106.7955322265625,
          -12.890165328979492,
          -115.61510467529297,
          -54.51250457763672,
          31.415283203125,
          19.757455825805664,
          -41.152713775634766,
          99.76553344726562,
          -20.90620994567871,
          40.14822769165039,
          -79.6318588256836,
          127.26996612548828,
          19.757455825805664,
          70.23896026611328,
          21.300832748413086,
          -93.91909790039062,
          35.3609504699707,
          90.24454498291016,
          19.374473571777344,
          95.60494232177734,
          70.91212463378906,
          -5.93867301940918,
          19.757455825805664,
          73.51654052734375,
          5.103845119476318,
          -41.563480377197266,
          -99.51986694335938,
          -0.8983190655708313,
          45.95512008666992,
          -28.97025489807129,
          33.24037170410156,
          -7.6194868087768555,
          40.14822769165039,
          24.10232162475586,
          50.170166015625,
          19.757455825805664,
          -55.79829406738281,
          -90.7162094116211,
          30.992149353027344,
          39.5857048034668,
          17.45614242553711,
          -65.90165710449219,
          33.65229034423828,
          22.478790283203125,
          -118.90377044677734,
          88.78035736083984,
          -80.31797790527344,
          -33.116275787353516,
          37.84263229370117,
          8.290136337280273,
          19.757455825805664,
          19.67432403564453,
          -13.136641502380371,
          -4.297241687774658,
          -82.17666625976562,
          -50.19496154785156,
          -68.20513153076172,
          73.08950805664062,
          -45.7704963684082,
          59.34735107421875,
          70.62718200683594,
          50.096160888671875,
          -90.7162094116211,
          -15.806705474853516,
          12.232897758483887,
          40.26162338256836,
          60.4250602722168,
          -49.635467529296875,
          94.33045959472656,
          -40.42972946166992,
          9.19961929321289,
          -90.7162094116211,
          -23.056583404541016,
          -14.878679275512695,
          5.083578586578369,
          5.519696235656738,
          51.051513671875,
          23.16008758544922,
          68.33403015136719,
          -95.4861831665039,
          39.5857048034668,
          -96.54875183105469,
          19.757455825805664,
          45.170345306396484,
          -28.541105270385742,
          66.63683319091797,
          104.91954040527344,
          99.76553344726562,
          -47.14639663696289,
          -52.79814910888672,
          -5.069580554962158,
          98.94622802734375,
          118.39708709716797,
          -65.34828186035156,
          -90.7162094116211,
          52.761878967285156,
          36.81321716308594,
          78.5870590209961,
          14.353757858276367,
          -37.11672592163086,
          3.5290324687957764,
          -81.37435913085938,
          39.432090759277344,
          -47.43766403198242,
          19.907339096069336,
          -76.35601806640625,
          39.5857048034668,
          -79.6318588256836,
          -24.500635147094727,
          10.977140426635742,
          50.170166015625,
          -33.07333755493164,
          0.5019361972808838,
          -22.354413986206055,
          58.23603439331055,
          -32.3826789855957,
          -57.940826416015625,
          -13.95777416229248,
          8.611517906188965,
          62.805355072021484,
          71.8609619140625,
          28.93512535095215,
          27.530242919921875,
          -15.182293891906738,
          -0.8983190655708313,
          34.1515007019043,
          95.07079315185547,
          27.695417404174805,
          21.114587783813477,
          48.82826232910156,
          75.39590454101562,
          127.26996612548828,
          -11.044526100158691,
          7.821031093597412,
          -103.9749755859375,
          67.10330200195312,
          -90.7162094116211,
          5.103845119476318,
          -79.6318588256836,
          26.43183135986328,
          59.48200607299805,
          -68.20513153076172,
          -18.475858688354492,
          109.76554107666016,
          93.05521392822266,
          -77.69409942626953,
          -34.56501007080078,
          100.31977844238281,
          8.060819625854492,
          36.520660400390625,
          -49.663021087646484,
          -58.81724166870117,
          -35.015174865722656,
          41.02577590942383,
          -108.70560455322266,
          39.5857048034668,
          41.44968795776367,
          -26.483482360839844,
          22.224538803100586,
          -82.17666625976562,
          -118.70764923095703,
          -104.6737060546875,
          47.381221771240234,
          -45.5277099609375,
          -10.877463340759277,
          98.1906967163086,
          71.8609619140625,
          12.717446327209473,
          -8.127745628356934,
          17.532608032226562,
          -76.35601806640625,
          -7.490535259246826,
          -7.6194868087768555,
          64.72119903564453,
          -72.38961791992188,
          80.05752563476562,
          -10.82961368560791,
          104.91954040527344,
          -78.71953582763672,
          -14.47280502319336,
          32.334747314453125,
          26.784982681274414,
          32.301395416259766,
          24.10232162475586,
          33.73590087890625,
          70.36552429199219,
          -32.3826789855957,
          3.2111029624938965,
          27.57891082763672,
          -102.19499969482422,
          48.74530792236328,
          32.358367919921875,
          10.412044525146484,
          -31.362499237060547,
          64.36270904541016,
          19.757455825805664,
          -4.00298547744751,
          34.1515007019043,
          -65.01013946533203,
          26.9045352935791,
          -64.0233154296875,
          -5.3941473960876465,
          -3.352971315383911,
          -65.01013946533203,
          -102.11632537841797,
          -41.152713775634766,
          20.095144271850586,
          -52.944679260253906,
          2.699455499649048,
          59.738040924072266,
          39.5857048034668,
          78.81962585449219,
          32.358367919921875,
          -32.72196578979492,
          -12.299519538879395,
          16.208864212036133,
          83.64022827148438,
          -38.70376205444336,
          -50.42599868774414,
          -40.787811279296875,
          -37.11672592163086,
          34.1515007019043,
          44.291969299316406,
          22.548076629638672,
          -65.34828186035156,
          -77.69409942626953,
          115.94200897216797,
          6.876147747039795,
          -16.201833724975586,
          -20.5540771484375,
          53.89863967895508,
          -44.99009704589844,
          58.45475769042969,
          5.78668737411499,
          92.81327056884766,
          -10.103013038635254,
          -38.451080322265625,
          29.172983169555664,
          -4.966544151306152,
          19.757455825805664,
          -35.161006927490234,
          67.34042358398438,
          -0.2178797423839569,
          -65.20145416259766,
          -96.89013671875,
          48.199981689453125,
          -105.29837036132812,
          -12.623315811157227,
          -19.660327911376953,
          -7.842419147491455,
          8.621526718139648,
          117.74866485595703,
          -10.103013038635254,
          -40.79152297973633,
          -24.327117919921875,
          111.86273956298828,
          -20.825666427612305,
          26.395153045654297,
          -58.817440032958984,
          71.75641632080078,
          61.31148910522461,
          14.311059951782227,
          -15.864328384399414,
          16.828046798706055,
          -109.05728149414062,
          66.32342529296875,
          -17.572124481201172,
          -88.01033020019531,
          -56.0679931640625,
          -72.09720611572266,
          117.40901184082031,
          98.1906967163086,
          -52.629703521728516,
          35.25165939331055,
          -35.73668670654297,
          -104.6737060546875,
          74.04933166503906,
          6.947556018829346,
          -65.3605728149414,
          26.395153045654297,
          -0.041789460927248,
          8.291747093200684,
          -56.925228118896484,
          -7.6194868087768555,
          73.11665344238281,
          63.23252868652344,
          -0.8983190655708313,
          100.31977844238281,
          39.5857048034668,
          24.85020637512207,
          13.775728225708008,
          -109.05728149414062,
          49.26148223876953,
          -20.540176391601562,
          -83.03227996826172,
          -51.32063674926758,
          117.27326202392578,
          -52.49713134765625,
          91.95198822021484,
          -27.662485122680664,
          8.695487976074219,
          -44.722904205322266,
          32.05657958984375,
          48.1524658203125,
          -68.20513153076172,
          -18.61362648010254,
          24.85020637512207,
          97.65472412109375,
          38.726173400878906,
          -52.49713134765625,
          102.29540252685547,
          97.47018432617188,
          23.108402252197266,
          19.757455825805664,
          7.631533145904541,
          -65.4903335571289,
          -50.972801208496094,
          23.95827293395996,
          -104.6737060546875,
          13.489408493041992,
          127.26996612548828,
          64.03546905517578,
          33.016361236572266,
          100.85154724121094,
          -35.73668670654297,
          -104.6737060546875,
          35.744773864746094,
          -50.53840255737305,
          -20.825666427612305,
          -78.29826354980469,
          -89.12854766845703,
          42.236083984375,
          -41.563480377197266,
          117.67706298828125,
          -116.63629913330078,
          31.277570724487305,
          6.817251682281494,
          24.85020637512207,
          -46.33477020263672,
          -36.6751594543457,
          -0.8983190655708313,
          -109.05728149414062,
          -27.92835235595703,
          78.81962585449219,
          -10.261768341064453,
          35.416927337646484,
          19.757455825805664,
          70.36552429199219,
          -28.821205139160156,
          70.36552429199219,
          47.92991638183594,
          47.25117874145508,
          -109.05728149414062,
          -22.354413986206055,
          -35.161006927490234,
          52.09476852416992,
          -106.36924743652344,
          16.090129852294922,
          -31.076730728149414,
          78.81962585449219,
          -11.831628799438477,
          61.28970718383789,
          11.12067985534668
         ],
         "yaxis": "y"
        }
       ],
       "layout": {
        "coloraxis": {
         "colorbar": {
          "title": {
           "text": "cluster"
          }
         },
         "colorscale": [
          [
           0,
           "rgb(0,0,255)"
          ],
          [
           1,
           "rgb(255,0,0)"
          ]
         ]
        },
        "height": 800,
        "legend": {
         "tracegroupgap": 0
        },
        "margin": {
         "t": 60
        },
        "template": {
         "data": {
          "bar": [
           {
            "error_x": {
             "color": "#2a3f5f"
            },
            "error_y": {
             "color": "#2a3f5f"
            },
            "marker": {
             "line": {
              "color": "#E5ECF6",
              "width": 0.5
             },
             "pattern": {
              "fillmode": "overlay",
              "size": 10,
              "solidity": 0.2
             }
            },
            "type": "bar"
           }
          ],
          "barpolar": [
           {
            "marker": {
             "line": {
              "color": "#E5ECF6",
              "width": 0.5
             },
             "pattern": {
              "fillmode": "overlay",
              "size": 10,
              "solidity": 0.2
             }
            },
            "type": "barpolar"
           }
          ],
          "carpet": [
           {
            "aaxis": {
             "endlinecolor": "#2a3f5f",
             "gridcolor": "white",
             "linecolor": "white",
             "minorgridcolor": "white",
             "startlinecolor": "#2a3f5f"
            },
            "baxis": {
             "endlinecolor": "#2a3f5f",
             "gridcolor": "white",
             "linecolor": "white",
             "minorgridcolor": "white",
             "startlinecolor": "#2a3f5f"
            },
            "type": "carpet"
           }
          ],
          "choropleth": [
           {
            "colorbar": {
             "outlinewidth": 0,
             "ticks": ""
            },
            "type": "choropleth"
           }
          ],
          "contour": [
           {
            "colorbar": {
             "outlinewidth": 0,
             "ticks": ""
            },
            "colorscale": [
             [
              0,
              "#0d0887"
             ],
             [
              0.1111111111111111,
              "#46039f"
             ],
             [
              0.2222222222222222,
              "#7201a8"
             ],
             [
              0.3333333333333333,
              "#9c179e"
             ],
             [
              0.4444444444444444,
              "#bd3786"
             ],
             [
              0.5555555555555556,
              "#d8576b"
             ],
             [
              0.6666666666666666,
              "#ed7953"
             ],
             [
              0.7777777777777778,
              "#fb9f3a"
             ],
             [
              0.8888888888888888,
              "#fdca26"
             ],
             [
              1,
              "#f0f921"
             ]
            ],
            "type": "contour"
           }
          ],
          "contourcarpet": [
           {
            "colorbar": {
             "outlinewidth": 0,
             "ticks": ""
            },
            "type": "contourcarpet"
           }
          ],
          "heatmap": [
           {
            "colorbar": {
             "outlinewidth": 0,
             "ticks": ""
            },
            "colorscale": [
             [
              0,
              "#0d0887"
             ],
             [
              0.1111111111111111,
              "#46039f"
             ],
             [
              0.2222222222222222,
              "#7201a8"
             ],
             [
              0.3333333333333333,
              "#9c179e"
             ],
             [
              0.4444444444444444,
              "#bd3786"
             ],
             [
              0.5555555555555556,
              "#d8576b"
             ],
             [
              0.6666666666666666,
              "#ed7953"
             ],
             [
              0.7777777777777778,
              "#fb9f3a"
             ],
             [
              0.8888888888888888,
              "#fdca26"
             ],
             [
              1,
              "#f0f921"
             ]
            ],
            "type": "heatmap"
           }
          ],
          "heatmapgl": [
           {
            "colorbar": {
             "outlinewidth": 0,
             "ticks": ""
            },
            "colorscale": [
             [
              0,
              "#0d0887"
             ],
             [
              0.1111111111111111,
              "#46039f"
             ],
             [
              0.2222222222222222,
              "#7201a8"
             ],
             [
              0.3333333333333333,
              "#9c179e"
             ],
             [
              0.4444444444444444,
              "#bd3786"
             ],
             [
              0.5555555555555556,
              "#d8576b"
             ],
             [
              0.6666666666666666,
              "#ed7953"
             ],
             [
              0.7777777777777778,
              "#fb9f3a"
             ],
             [
              0.8888888888888888,
              "#fdca26"
             ],
             [
              1,
              "#f0f921"
             ]
            ],
            "type": "heatmapgl"
           }
          ],
          "histogram": [
           {
            "marker": {
             "pattern": {
              "fillmode": "overlay",
              "size": 10,
              "solidity": 0.2
             }
            },
            "type": "histogram"
           }
          ],
          "histogram2d": [
           {
            "colorbar": {
             "outlinewidth": 0,
             "ticks": ""
            },
            "colorscale": [
             [
              0,
              "#0d0887"
             ],
             [
              0.1111111111111111,
              "#46039f"
             ],
             [
              0.2222222222222222,
              "#7201a8"
             ],
             [
              0.3333333333333333,
              "#9c179e"
             ],
             [
              0.4444444444444444,
              "#bd3786"
             ],
             [
              0.5555555555555556,
              "#d8576b"
             ],
             [
              0.6666666666666666,
              "#ed7953"
             ],
             [
              0.7777777777777778,
              "#fb9f3a"
             ],
             [
              0.8888888888888888,
              "#fdca26"
             ],
             [
              1,
              "#f0f921"
             ]
            ],
            "type": "histogram2d"
           }
          ],
          "histogram2dcontour": [
           {
            "colorbar": {
             "outlinewidth": 0,
             "ticks": ""
            },
            "colorscale": [
             [
              0,
              "#0d0887"
             ],
             [
              0.1111111111111111,
              "#46039f"
             ],
             [
              0.2222222222222222,
              "#7201a8"
             ],
             [
              0.3333333333333333,
              "#9c179e"
             ],
             [
              0.4444444444444444,
              "#bd3786"
             ],
             [
              0.5555555555555556,
              "#d8576b"
             ],
             [
              0.6666666666666666,
              "#ed7953"
             ],
             [
              0.7777777777777778,
              "#fb9f3a"
             ],
             [
              0.8888888888888888,
              "#fdca26"
             ],
             [
              1,
              "#f0f921"
             ]
            ],
            "type": "histogram2dcontour"
           }
          ],
          "mesh3d": [
           {
            "colorbar": {
             "outlinewidth": 0,
             "ticks": ""
            },
            "type": "mesh3d"
           }
          ],
          "parcoords": [
           {
            "line": {
             "colorbar": {
              "outlinewidth": 0,
              "ticks": ""
             }
            },
            "type": "parcoords"
           }
          ],
          "pie": [
           {
            "automargin": true,
            "type": "pie"
           }
          ],
          "scatter": [
           {
            "fillpattern": {
             "fillmode": "overlay",
             "size": 10,
             "solidity": 0.2
            },
            "type": "scatter"
           }
          ],
          "scatter3d": [
           {
            "line": {
             "colorbar": {
              "outlinewidth": 0,
              "ticks": ""
             }
            },
            "marker": {
             "colorbar": {
              "outlinewidth": 0,
              "ticks": ""
             }
            },
            "type": "scatter3d"
           }
          ],
          "scattercarpet": [
           {
            "marker": {
             "colorbar": {
              "outlinewidth": 0,
              "ticks": ""
             }
            },
            "type": "scattercarpet"
           }
          ],
          "scattergeo": [
           {
            "marker": {
             "colorbar": {
              "outlinewidth": 0,
              "ticks": ""
             }
            },
            "type": "scattergeo"
           }
          ],
          "scattergl": [
           {
            "marker": {
             "colorbar": {
              "outlinewidth": 0,
              "ticks": ""
             }
            },
            "type": "scattergl"
           }
          ],
          "scattermapbox": [
           {
            "marker": {
             "colorbar": {
              "outlinewidth": 0,
              "ticks": ""
             }
            },
            "type": "scattermapbox"
           }
          ],
          "scatterpolar": [
           {
            "marker": {
             "colorbar": {
              "outlinewidth": 0,
              "ticks": ""
             }
            },
            "type": "scatterpolar"
           }
          ],
          "scatterpolargl": [
           {
            "marker": {
             "colorbar": {
              "outlinewidth": 0,
              "ticks": ""
             }
            },
            "type": "scatterpolargl"
           }
          ],
          "scatterternary": [
           {
            "marker": {
             "colorbar": {
              "outlinewidth": 0,
              "ticks": ""
             }
            },
            "type": "scatterternary"
           }
          ],
          "surface": [
           {
            "colorbar": {
             "outlinewidth": 0,
             "ticks": ""
            },
            "colorscale": [
             [
              0,
              "#0d0887"
             ],
             [
              0.1111111111111111,
              "#46039f"
             ],
             [
              0.2222222222222222,
              "#7201a8"
             ],
             [
              0.3333333333333333,
              "#9c179e"
             ],
             [
              0.4444444444444444,
              "#bd3786"
             ],
             [
              0.5555555555555556,
              "#d8576b"
             ],
             [
              0.6666666666666666,
              "#ed7953"
             ],
             [
              0.7777777777777778,
              "#fb9f3a"
             ],
             [
              0.8888888888888888,
              "#fdca26"
             ],
             [
              1,
              "#f0f921"
             ]
            ],
            "type": "surface"
           }
          ],
          "table": [
           {
            "cells": {
             "fill": {
              "color": "#EBF0F8"
             },
             "line": {
              "color": "white"
             }
            },
            "header": {
             "fill": {
              "color": "#C8D4E3"
             },
             "line": {
              "color": "white"
             }
            },
            "type": "table"
           }
          ]
         },
         "layout": {
          "annotationdefaults": {
           "arrowcolor": "#2a3f5f",
           "arrowhead": 0,
           "arrowwidth": 1
          },
          "autotypenumbers": "strict",
          "coloraxis": {
           "colorbar": {
            "outlinewidth": 0,
            "ticks": ""
           }
          },
          "colorscale": {
           "diverging": [
            [
             0,
             "#8e0152"
            ],
            [
             0.1,
             "#c51b7d"
            ],
            [
             0.2,
             "#de77ae"
            ],
            [
             0.3,
             "#f1b6da"
            ],
            [
             0.4,
             "#fde0ef"
            ],
            [
             0.5,
             "#f7f7f7"
            ],
            [
             0.6,
             "#e6f5d0"
            ],
            [
             0.7,
             "#b8e186"
            ],
            [
             0.8,
             "#7fbc41"
            ],
            [
             0.9,
             "#4d9221"
            ],
            [
             1,
             "#276419"
            ]
           ],
           "sequential": [
            [
             0,
             "#0d0887"
            ],
            [
             0.1111111111111111,
             "#46039f"
            ],
            [
             0.2222222222222222,
             "#7201a8"
            ],
            [
             0.3333333333333333,
             "#9c179e"
            ],
            [
             0.4444444444444444,
             "#bd3786"
            ],
            [
             0.5555555555555556,
             "#d8576b"
            ],
            [
             0.6666666666666666,
             "#ed7953"
            ],
            [
             0.7777777777777778,
             "#fb9f3a"
            ],
            [
             0.8888888888888888,
             "#fdca26"
            ],
            [
             1,
             "#f0f921"
            ]
           ],
           "sequentialminus": [
            [
             0,
             "#0d0887"
            ],
            [
             0.1111111111111111,
             "#46039f"
            ],
            [
             0.2222222222222222,
             "#7201a8"
            ],
            [
             0.3333333333333333,
             "#9c179e"
            ],
            [
             0.4444444444444444,
             "#bd3786"
            ],
            [
             0.5555555555555556,
             "#d8576b"
            ],
            [
             0.6666666666666666,
             "#ed7953"
            ],
            [
             0.7777777777777778,
             "#fb9f3a"
            ],
            [
             0.8888888888888888,
             "#fdca26"
            ],
            [
             1,
             "#f0f921"
            ]
           ]
          },
          "colorway": [
           "#636efa",
           "#EF553B",
           "#00cc96",
           "#ab63fa",
           "#FFA15A",
           "#19d3f3",
           "#FF6692",
           "#B6E880",
           "#FF97FF",
           "#FECB52"
          ],
          "font": {
           "color": "#2a3f5f"
          },
          "geo": {
           "bgcolor": "white",
           "lakecolor": "white",
           "landcolor": "#E5ECF6",
           "showlakes": true,
           "showland": true,
           "subunitcolor": "white"
          },
          "hoverlabel": {
           "align": "left"
          },
          "hovermode": "closest",
          "mapbox": {
           "style": "light"
          },
          "paper_bgcolor": "white",
          "plot_bgcolor": "#E5ECF6",
          "polar": {
           "angularaxis": {
            "gridcolor": "white",
            "linecolor": "white",
            "ticks": ""
           },
           "bgcolor": "#E5ECF6",
           "radialaxis": {
            "gridcolor": "white",
            "linecolor": "white",
            "ticks": ""
           }
          },
          "scene": {
           "xaxis": {
            "backgroundcolor": "#E5ECF6",
            "gridcolor": "white",
            "gridwidth": 2,
            "linecolor": "white",
            "showbackground": true,
            "ticks": "",
            "zerolinecolor": "white"
           },
           "yaxis": {
            "backgroundcolor": "#E5ECF6",
            "gridcolor": "white",
            "gridwidth": 2,
            "linecolor": "white",
            "showbackground": true,
            "ticks": "",
            "zerolinecolor": "white"
           },
           "zaxis": {
            "backgroundcolor": "#E5ECF6",
            "gridcolor": "white",
            "gridwidth": 2,
            "linecolor": "white",
            "showbackground": true,
            "ticks": "",
            "zerolinecolor": "white"
           }
          },
          "shapedefaults": {
           "line": {
            "color": "#2a3f5f"
           }
          },
          "ternary": {
           "aaxis": {
            "gridcolor": "white",
            "linecolor": "white",
            "ticks": ""
           },
           "baxis": {
            "gridcolor": "white",
            "linecolor": "white",
            "ticks": ""
           },
           "bgcolor": "#E5ECF6",
           "caxis": {
            "gridcolor": "white",
            "linecolor": "white",
            "ticks": ""
           }
          },
          "title": {
           "x": 0.05
          },
          "xaxis": {
           "automargin": true,
           "gridcolor": "white",
           "linecolor": "white",
           "ticks": "",
           "title": {
            "standoff": 15
           },
           "zerolinecolor": "white",
           "zerolinewidth": 2
          },
          "yaxis": {
           "automargin": true,
           "gridcolor": "white",
           "linecolor": "white",
           "ticks": "",
           "title": {
            "standoff": 15
           },
           "zerolinecolor": "white",
           "zerolinewidth": 2
          }
         }
        },
        "title": {
         "text": "Embeddings of TikTok News Hashtags"
        },
        "width": 800,
        "xaxis": {
         "anchor": "y",
         "domain": [
          0,
          1
         ],
         "title": {
          "text": "tsne_1"
         }
        },
        "yaxis": {
         "anchor": "x",
         "domain": [
          0,
          1
         ],
         "title": {
          "text": "tsne_2"
         }
        }
       }
      }
     },
     "metadata": {},
     "output_type": "display_data"
    }
   ],
   "source": [
    "tsneN = TSNE(n_components=2, random_state=42)  \n",
    "tsne_resultsN = tsneN.fit_transform(embednews10824)\n",
    "\n",
    "dfN = pd.DataFrame(tsne_resultsN, columns=['tsne_1', 'tsne_2'])\n",
    "dfN['hashtag'] = newswords10824\n",
    "dfN['cluster'] = clustersN # the cluster indices where each news hashtags belong\n",
    "#df.head()\n",
    "\n",
    "# Create the scatter plot\n",
    "fig = px.scatter(dfN, x='tsne_1', y='tsne_2', text='hashtag', color=\"cluster\", color_continuous_scale=\"BlueRed\")\n",
    "\n",
    "# Format what to show next to the markers\n",
    "fig.update_traces(textposition='top center', \n",
    "                  mode='markers+text', \n",
    "                  textfont=dict(size=6))\n",
    "\n",
    "fig.update_layout(title='Embeddings of TikTok News Hashtags', width=800, height=800)\n",
    "fig.show()"
   ]
  }
 ],
 "metadata": {
  "kernelspec": {
   "display_name": "base",
   "language": "python",
   "name": "python3"
  },
  "language_info": {
   "codemirror_mode": {
    "name": "ipython",
    "version": 3
   },
   "file_extension": ".py",
   "mimetype": "text/x-python",
   "name": "python",
   "nbconvert_exporter": "python",
   "pygments_lexer": "ipython3",
   "version": "3.11.5"
  }
 },
 "nbformat": 4,
 "nbformat_minor": 2
}
