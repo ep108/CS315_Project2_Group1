{
 "cells": [
  {
   "cell_type": "code",
   "execution_count": 2,
   "id": "4cdcca05",
   "metadata": {},
   "outputs": [],
   "source": [
    "import pandas as pd\n",
    "import numpy as np\n",
    "import seaborn as sns\n",
    "import os"
   ]
  },
  {
   "cell_type": "code",
   "execution_count": null,
   "id": "93419464",
   "metadata": {},
   "outputs": [],
   "source": [
    "# Load df --> filename, df = pd.read_csv(filename)\n",
    "# Clean df --> clean_df = clean_df(df)\n",
    "# Add columns (avg_cossim,,highest_cossim, headline_count)\n",
    "# Create histogram of scores\n",
    "# Find top 5 videos with highest average scores\n",
    "# Look at the video for content\n",
    "# Create a heatmaps of the top 10 highest scores for the 5 highest video"
   ]
  },
  {
   "cell_type": "code",
   "execution_count": 15,
   "id": "8892941a",
   "metadata": {},
   "outputs": [],
   "source": [
    "# Read in results files\n",
    "def load_data(filename):\n",
    "    return pd.read_csv(filename)\n",
    "\n",
    "def clean_df(df):\n",
    "    print(f'Original Shape: {df.shape}')\n",
    "    clean_df = df.dropna(subset=['date'])\n",
    "    print(f'New Shape: {clean_df.shape}')\n",
    "    print(f'Num rows dropped: {df.shape[0]-clean_df.shape[0]}')\n",
    "    return "
   ]
  },
  {
   "cell_type": "code",
   "execution_count": 16,
   "id": "e68ac365",
   "metadata": {},
   "outputs": [
    {
     "name": "stdout",
     "output_type": "stream",
     "text": [
      "Original Shape: (373, 7)\n",
      "New Shape: (142, 7)\n",
      "Num rows dropped: 231\n"
     ]
    }
   ],
   "source": [
    "filename = \"cosine_sim_video_description_12345_BYFNAME.csv\"\n",
    "df = load_data(filename)\n",
    "df_clean = clean_df(df)"
   ]
  },
  {
   "cell_type": "code",
   "execution_count": 9,
   "id": "77781bc6",
   "metadata": {},
   "outputs": [
    {
     "data": {
      "text/plain": [
       "(142, 7)"
      ]
     },
     "execution_count": 9,
     "metadata": {},
     "output_type": "execute_result"
    }
   ],
   "source": [
    "# clean df\n",
    "df_clean = df.dropna(subset=['date'])\n",
    "df_clean.shape"
   ]
  },
  {
   "cell_type": "code",
   "execution_count": null,
   "id": "824f7619",
   "metadata": {},
   "outputs": [],
   "source": []
  }
 ],
 "metadata": {
  "kernelspec": {
   "display_name": "Python 3 (ipykernel)",
   "language": "python",
   "name": "python3"
  },
  "language_info": {
   "codemirror_mode": {
    "name": "ipython",
    "version": 3
   },
   "file_extension": ".py",
   "mimetype": "text/x-python",
   "name": "python",
   "nbconvert_exporter": "python",
   "pygments_lexer": "ipython3",
   "version": "3.10.8"
  }
 },
 "nbformat": 4,
 "nbformat_minor": 5
}
